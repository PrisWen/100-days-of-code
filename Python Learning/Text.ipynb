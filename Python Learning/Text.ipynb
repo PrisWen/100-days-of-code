{
 "cells": [
  {
   "cell_type": "code",
   "execution_count": 1,
   "metadata": {
    "colab": {},
    "colab_type": "code",
    "id": "hRzROVB1ncgj"
   },
   "outputs": [],
   "source": [
    "letra = 'a'\n",
    "frase = 'Bolivia es un paíse mediterráneo, tienes fronteras con varios con Perú, Argentina, Brasil, Paraguay.'"
   ]
  },
  {
   "cell_type": "code",
   "execution_count": 2,
   "metadata": {
    "colab": {
     "base_uri": "https://localhost:8080/",
     "height": 34
    },
    "colab_type": "code",
    "id": "37Ibnv5_nrd_",
    "outputId": "30ab64df-0f66-4a9b-a8ee-75894b0f55d6"
   },
   "outputs": [
    {
     "name": "stdout",
     "output_type": "stream",
     "text": [
      "a Bolivia es un paíse mediterráneo, tienes fronteras con varios con Perú, Argentina, Brasil, Paraguay.\n"
     ]
    }
   ],
   "source": [
    "print(letra, frase)"
   ]
  },
  {
   "cell_type": "code",
   "execution_count": 3,
   "metadata": {
    "colab": {
     "base_uri": "https://localhost:8080/",
     "height": 34
    },
    "colab_type": "code",
    "id": "2eY1_Y88nw-t",
    "outputId": "35627cbd-7f65-4a86-a9f2-fcb48cb4207e"
   },
   "outputs": [
    {
     "name": "stdout",
     "output_type": "stream",
     "text": [
      "122 z\n"
     ]
    }
   ],
   "source": [
    "numero = 122\n",
    "zeta = chr(numero)\n",
    "print(numero, zeta)"
   ]
  },
  {
   "cell_type": "code",
   "execution_count": 4,
   "metadata": {
    "colab": {
     "base_uri": "https://localhost:8080/",
     "height": 34
    },
    "colab_type": "code",
    "id": "TWW2eARhodzD",
    "outputId": "ecb63974-052e-49f9-c146-89b05b1d9f3c"
   },
   "outputs": [
    {
     "name": "stdout",
     "output_type": "stream",
     "text": [
      "Bolivia es mediterrán\n"
     ]
    }
   ],
   "source": [
    "print( frase[0:10], frase[20:30] )"
   ]
  },
  {
   "cell_type": "code",
   "execution_count": 5,
   "metadata": {
    "colab": {},
    "colab_type": "code",
    "id": "oe9OkNNopD8O"
   },
   "outputs": [],
   "source": [
    "list_frase = []\n",
    "for i in range(0, len(frase)): ###  0 <= i < \n",
    "  list_frase.append(frase[i])\n",
    "  #letra[i] = chr(int(letra[i]) + 10)\n"
   ]
  },
  {
   "cell_type": "code",
   "execution_count": 6,
   "metadata": {
    "colab": {
     "base_uri": "https://localhost:8080/",
     "height": 34
    },
    "colab_type": "code",
    "id": "fNYgQ8P1pm6g",
    "outputId": "6a5a03b7-25df-4334-ab28-80e0654e745b"
   },
   "outputs": [
    {
     "name": "stdout",
     "output_type": "stream",
     "text": [
      "t¡¨R¥R§ R¢ğ¥R¦¤¤ē ¡^R¦ ¥R¤¡ ¦¤¥R¡ R¨¤¡¥R¡ R¤Ĭ^Rs¤ ¦ ^Rt¤¥^R¤§«`"
     ]
    }
   ],
   "source": [
    "for i in range(0, len(frase)): ###  0 <= i < \n",
    "  list_frase[i] = chr(ord(list_frase[i]) + 50)\n",
    "  print( list_frase[i], end='')"
   ]
  },
  {
   "cell_type": "code",
   "execution_count": 7,
   "metadata": {
    "colab": {
     "base_uri": "https://localhost:8080/",
     "height": 51
    },
    "colab_type": "code",
    "id": "Wc-733FEp87g",
    "outputId": "9897ee73-0e86-4863-ce56-55b34b69ec35"
   },
   "outputs": [
    {
     "name": "stdout",
     "output_type": "stream",
     "text": [
      "Bolivia es un paíse mediterráneo, tienes fronteras con varios con Perú, Argentina, Brasil, Paraguay.\n",
      "Lyvssk*o}*x*zk÷}o*wons~o||ëxoy6*~soxo}*p|yx~o|k}*myx*k|sy}*myx*Zo|Ą6*K|qox~sxk6*L|k}sv6*Zk|kqk8\n"
     ]
    }
   ],
   "source": [
    "enc = 'Lyvssk*o}*x*zk÷}o*wons~o||ëxoy6*~soxo}*p|yx~o|k}*myx*k|sy}*myx*Zo|Ą6*K|qox~sxk6*L|k}sv6*Zk|kqk8'\n",
    "print(frase)\n",
    "print(enc)"
   ]
  },
  {
   "cell_type": "code",
   "execution_count": 8,
   "metadata": {
    "colab": {},
    "colab_type": "code",
    "id": "Ttka34qJrxX7"
   },
   "outputs": [],
   "source": [
    "palabras = 'criptografía,Bolivia,murciélago,caracter,coronavirus,agenda,diagrama,linux'"
   ]
  },
  {
   "cell_type": "code",
   "execution_count": 9,
   "metadata": {
    "colab": {},
    "colab_type": "code",
    "id": "tn-znmyftRCa"
   },
   "outputs": [],
   "source": [
    "conjunto = set()"
   ]
  },
  {
   "cell_type": "code",
   "execution_count": 10,
   "metadata": {
    "colab": {},
    "colab_type": "code",
    "id": "s_es14rutpjU"
   },
   "outputs": [],
   "source": [
    "for i in range(0, len(palabras)):\n",
    "  conjunto.add(palabras[i])"
   ]
  },
  {
   "cell_type": "code",
   "execution_count": 11,
   "metadata": {
    "colab": {
     "base_uri": "https://localhost:8080/",
     "height": 34
    },
    "colab_type": "code",
    "id": "mUJQmcxGtvWI",
    "outputId": "3f0312df-c87b-49b0-c80e-080bc8bcdc58"
   },
   "outputs": [
    {
     "name": "stdout",
     "output_type": "stream",
     "text": [
      "{'r', 'o', 'é', 'm', 'g', 'f', 'u', 'd', 'B', 'n', ',', 't', 'a', 'í', 'p', 'e', 'i', 'l', 's', 'x', 'c', 'v'}\n"
     ]
    }
   ],
   "source": [
    "print(conjunto)"
   ]
  },
  {
   "cell_type": "code",
   "execution_count": 12,
   "metadata": {
    "colab": {},
    "colab_type": "code",
    "id": "PoE-lNVLtwx3"
   },
   "outputs": [],
   "source": [
    "list_conjunto = list(conjunto)"
   ]
  },
  {
   "cell_type": "code",
   "execution_count": 13,
   "metadata": {
    "colab": {},
    "colab_type": "code",
    "id": "xtUp37D0uDy0"
   },
   "outputs": [],
   "source": [
    "list_cont = []\n",
    "for c in range(0, len(list_conjunto)):\n",
    "  cont = 0\n",
    "  for i in range(0, len(palabras)):\n",
    "    if list_conjunto[c] == palabras[i]:\n",
    "      cont = cont + 1\n",
    "  list_cont.append(cont)"
   ]
  },
  {
   "cell_type": "code",
   "execution_count": 14,
   "metadata": {
    "colab": {
     "base_uri": "https://localhost:8080/",
     "height": 391
    },
    "colab_type": "code",
    "id": "UJUZBIUpujoN",
    "outputId": "65c60fd5-4822-47bc-9758-c888fd12783a"
   },
   "outputs": [
    {
     "name": "stdout",
     "output_type": "stream",
     "text": [
      "r :  8\n",
      "o :  5\n",
      "é :  1\n",
      "m :  2\n",
      "g :  4\n",
      "f :  1\n",
      "u :  3\n",
      "d :  2\n",
      "B :  1\n",
      "n :  3\n",
      ", :  7\n",
      "t :  2\n",
      "a :  12\n",
      "í :  1\n",
      "p :  1\n",
      "e :  2\n",
      "i :  7\n",
      "l :  3\n",
      "s :  1\n",
      "x :  1\n",
      "c :  5\n",
      "v :  2\n"
     ]
    }
   ],
   "source": [
    "for c in range(0, len(list_conjunto)):\n",
    "  print(list_conjunto[c], ': ', list_cont[c])"
   ]
  },
  {
   "cell_type": "code",
   "execution_count": 15,
   "metadata": {
    "colab": {},
    "colab_type": "code",
    "id": "0SkMNlehuq8u"
   },
   "outputs": [],
   "source": [
    "noticia = \"\"\" Pero al poco tiempo, varios países de Latinoamérica empezaron a cerrar sus fronteras por miedo a la propagación del virus.\n",
    "\n",
    "Honduras no fue la excepción e impuso esa medida el 15 de marzo.\n",
    "\n",
    "Así, cuando Escalante decidió detenerse para reabastecerse en el puerto La Ceiba, las autoridades locales le negaron el desembarco.\n",
    "\n",
    "Debido a fuertes vientos y oleaje, el chef decidió anclar en el malecón de esta zona para pasar la noche.\n",
    "\n",
    "Pero el clima empeoró.\n",
    "\n",
    "  \"\"\""
   ]
  },
  {
   "cell_type": "code",
   "execution_count": 16,
   "metadata": {
    "colab": {},
    "colab_type": "code",
    "id": "y7jp60v7wCrO"
   },
   "outputs": [],
   "source": [
    "noticia = noticia.replace('\\n', '')"
   ]
  },
  {
   "cell_type": "code",
   "execution_count": 17,
   "metadata": {
    "colab": {
     "base_uri": "https://localhost:8080/",
     "height": 54
    },
    "colab_type": "code",
    "id": "2tsCiak2wRSw",
    "outputId": "50d7ce7d-d939-4832-f58f-658def0013fc"
   },
   "outputs": [
    {
     "data": {
      "text/plain": [
       "' pero al poco tiempo, varios países de latinoamérica empezaron a cerrar sus fronteras por miedo a la propagación del virus.honduras no fue la excepción e impuso esa medida el 15 de marzo.así, cuando escalante decidió detenerse para reabastecerse en el puerto la ceiba, las autoridades locales le negaron el desembarco.debido a fuertes vientos y oleaje, el chef decidió anclar en el malecón de esta zona para pasar la noche.pero el clima empeoró.  '"
      ]
     },
     "execution_count": 17,
     "metadata": {},
     "output_type": "execute_result"
    }
   ],
   "source": [
    "noticia.lower()"
   ]
  },
  {
   "cell_type": "code",
   "execution_count": 18,
   "metadata": {
    "colab": {},
    "colab_type": "code",
    "id": "AcITrqEGw8qi"
   },
   "outputs": [],
   "source": [
    "## escribir una función que convierte de mayúsculas a minúsculas\n",
    "## Qué es web scrapping?"
   ]
  },
  {
   "cell_type": "code",
   "execution_count": 19,
   "metadata": {},
   "outputs": [],
   "source": [
    "def upper_to_lower(message):\n",
    "    new_message=\"\"\n",
    "    for i in range(0, len(message)):\n",
    "        if ord(message[i]) >= 65 and ord(message[i]) <= 90:\n",
    "            new_message += chr(ord(message[i]) + 32)\n",
    "        else:\n",
    "            new_message += chr(ord(message[i]))\n",
    "    return new_message"
   ]
  },
  {
   "cell_type": "code",
   "execution_count": 20,
   "metadata": {},
   "outputs": [
    {
     "name": "stdout",
     "output_type": "stream",
     "text": [
      "it is fun work with text\n"
     ]
    }
   ],
   "source": [
    "message= \"IT IS FUN WORK WITH TEXT\"\n",
    "print(upper_to_lower(message))"
   ]
  },
  {
   "cell_type": "code",
   "execution_count": 21,
   "metadata": {},
   "outputs": [
    {
     "name": "stdout",
     "output_type": "stream",
     "text": [
      "[3, 2, 1]\n"
     ]
    }
   ],
   "source": [
    "# invert a list\n",
    "vf=[1,2,3]\n",
    "print (vf[::-1])"
   ]
  },
  {
   "cell_type": "code",
   "execution_count": null,
   "metadata": {},
   "outputs": [],
   "source": []
  }
 ],
 "metadata": {
  "colab": {
   "name": "sesion4_B.ipynb",
   "provenance": []
  },
  "kernelspec": {
   "display_name": "Python 3",
   "language": "python",
   "name": "python3"
  },
  "language_info": {
   "codemirror_mode": {
    "name": "ipython",
    "version": 3
   },
   "file_extension": ".py",
   "mimetype": "text/x-python",
   "name": "python",
   "nbconvert_exporter": "python",
   "pygments_lexer": "ipython3",
   "version": "3.7.4"
  }
 },
 "nbformat": 4,
 "nbformat_minor": 1
}
