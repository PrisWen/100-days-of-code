{
 "cells": [
  {
   "cell_type": "code",
   "execution_count": 3,
   "metadata": {},
   "outputs": [],
   "source": [
    "def binario_a_decimal(x):\n",
    "    return sum(b*(2**i) for (i,b) in enumerate(x)) "
   ]
  },
  {
   "cell_type": "code",
   "execution_count": 18,
   "metadata": {},
   "outputs": [],
   "source": [
    "def fun_cruzar(cromosoma1, cromosoma2):\n",
    "    \"\"\"Cruza los cromosomas por la mitad\"\"\"\n",
    "    l1 = len(cromosoma1)\n",
    "    l2 = len(cromosoma2)\n",
    "    cruce1 = cromosoma1[0:(l1//2)]+cromosoma2[(l1//2):l2]\n",
    "    cruce2 = cromosoma2[0:(l2//2)]+cromosoma1[(l2//2):l1]\n",
    "    return [cruce1,cruce2]\n"
   ]
  },
  {
   "cell_type": "code",
   "execution_count": 24,
   "metadata": {},
   "outputs": [
    {
     "data": {
      "text/plain": [
       "['26356', '49641']"
      ]
     },
     "execution_count": 24,
     "metadata": {},
     "output_type": "execute_result"
    }
   ],
   "source": [
    "n1=\"26641\"\n",
    "n2=\"49356\"\n",
    "fun_cruzar(n1,n2)"
   ]
  },
  {
   "cell_type": "code",
   "execution_count": 25,
   "metadata": {},
   "outputs": [
    {
     "data": {
      "text/plain": [
       "['12345674343434', '34343438901234']"
      ]
     },
     "execution_count": 25,
     "metadata": {},
     "output_type": "execute_result"
    }
   ],
   "source": [
    "n1=\"12345678901234\"\n",
    "n2=\"34343434343434\"\n",
    "fun_cruzar(n1,n2)"
   ]
  },
  {
   "cell_type": "code",
   "execution_count": 90,
   "metadata": {},
   "outputs": [],
   "source": [
    "import random\n",
    "def fun_mutar(cromosoma,prob):\n",
    "    \"\"\"Elige un elemento al azar del cromosoma y lo modifica con una probabilidad igual a prob\"\"\"\n",
    "    l = len(cromosoma)\n",
    "    p = random.randint(0,l-1)\n",
    "    new_prob = random.uniform(0,1)\n",
    "    if prob > new_prob:\n",
    "        print(cromosoma[p])\n",
    "        cromosoma[p] = (cromosoma[p]+1)%2\n",
    "    return cromosoma"
   ]
  },
  {
   "cell_type": "code",
   "execution_count": 91,
   "metadata": {},
   "outputs": [
    {
     "name": "stdout",
     "output_type": "stream",
     "text": [
      "7\n"
     ]
    },
    {
     "data": {
      "text/plain": [
       "[1, 2, 3, 4, 5, 6, 0, 8, 9]"
      ]
     },
     "execution_count": 91,
     "metadata": {},
     "output_type": "execute_result"
    }
   ],
   "source": [
    "n1=[1,2,3,4,5,6,7,8,9]\n",
    "fun_mutar(n1,0.9)"
   ]
  },
  {
   "cell_type": "code",
   "execution_count": null,
   "metadata": {},
   "outputs": [],
   "source": []
  },
  {
   "cell_type": "code",
   "execution_count": 92,
   "metadata": {},
   "outputs": [
    {
     "name": "stdout",
     "output_type": "stream",
     "text": [
      "\n",
      "\n",
      "Modelo: [1, 1, 1, 1, 1, 1, 1, 1, 1, 1]\n",
      "\n"
     ]
    }
   ],
   "source": [
    "import random\n",
    "  \n",
    "modelo = [1,1,1,1,1,1,1,1,1,1] #Objetivo a alcanzar\n",
    "largo = 10 #La longitud del material genetico de cada individuo\n",
    "num = 10 #La cantidad de individuos que habra en la poblacion\n",
    "pressure = 3 #Cuantos individuos se seleccionan para reproduccion. Necesariamente mayor que 2\n",
    "mutation_chance = 0.2 #La probabilidad de que un individuo mute\n",
    "  \n",
    "print(\"\\n\\nModelo: %s\\n\"%(modelo)) #Mostrar el modelo, con un poco de espaciado\n",
    "  "
   ]
  },
  {
   "cell_type": "code",
   "execution_count": 93,
   "metadata": {},
   "outputs": [],
   "source": [
    "def individual(min, max):\n",
    "    \"\"\"\n",
    "        Crea un individual\n",
    "    \"\"\"\n",
    "    return[random.randint(min, max) for i in range(largo)]\n",
    "  "
   ]
  },
  {
   "cell_type": "code",
   "execution_count": 94,
   "metadata": {},
   "outputs": [],
   "source": [
    "def crearPoblacion():\n",
    "    \"\"\"\n",
    "        Crea una poblacion nueva de individuos\n",
    "    \"\"\"\n",
    "    return [individual(1,9) for i in range(num)]\n",
    "  "
   ]
  },
  {
   "cell_type": "code",
   "execution_count": 95,
   "metadata": {},
   "outputs": [],
   "source": [
    "def calcularFitness(individual):\n",
    "    \"\"\"\n",
    "        Calcula el fitness de un individuo concreto.\n",
    "    \"\"\"\n",
    "    fitness = 0\n",
    "    for i in range(len(individual)):\n",
    "        if individual[i] == modelo[i]:\n",
    "            fitness += 1\n",
    "  \n",
    "    return fitness\n",
    " "
   ]
  },
  {
   "cell_type": "code",
   "execution_count": 96,
   "metadata": {},
   "outputs": [],
   "source": [
    " \n",
    "def selection_and_reproduction(population):\n",
    "    \"\"\"\n",
    "        Puntua todos los elementos de la poblacion (population) y se queda con los mejores\n",
    "        guardandolos dentro de 'selected'.\n",
    "        Despues mezcla el material genetico de los elegidos para crear nuevos individuos y\n",
    "        llenar la poblacion (guardando tambien una copia de los individuos seleccionados sin\n",
    "        modificar).\n",
    "  \n",
    "        Por ultimo muta a los individuos.\n",
    "  \n",
    "    \"\"\"\n",
    "    puntuados = [ (calcularFitness(i), i) for i in population] #Calcula el fitness de cada individuo, y lo guarda en pares ordenados de la forma (5 , [1,2,1,1,4,1,8,9,4,1])\n",
    "    puntuados = [i[1] for i in sorted(puntuados)] #Ordena los pares ordenados y se queda solo con el array de valores\n",
    "    population = puntuados\n",
    "  \n",
    "  \n",
    "  \n",
    "    selected =  puntuados[(len(puntuados)-pressure):] #Esta linea selecciona los 'n' individuos del final, donde n viene dado por 'pressure'\n",
    "  \n",
    "  \n",
    "  \n",
    "    #Se mezcla el material genetico para crear nuevos individuos\n",
    "    for i in range(len(population)-pressure):\n",
    "        punto = random.randint(1,largo-1) #Se elige un punto para hacer el intercambio\n",
    "        padre = random.sample(selected, 2) #Se eligen dos padres\n",
    "          \n",
    "        population[i][:punto] = padre[0][:punto] #Se mezcla el material genetico de los padres en cada nuevo individuo\n",
    "        population[i][punto:] = padre[1][punto:]\n",
    "  \n",
    "    return population #El array 'population' tiene ahora una nueva poblacion de individuos, que se devuelven\n",
    "  "
   ]
  },
  {
   "cell_type": "code",
   "execution_count": 97,
   "metadata": {},
   "outputs": [],
   "source": [
    "def mutation(population):\n",
    "    \"\"\"\n",
    "        Se mutan los individuos al azar. Sin la mutacion de nuevos genes nunca podria\n",
    "        alcanzarse la solucion.\n",
    "    \"\"\"\n",
    "    for i in range(len(population)-pressure):\n",
    "        if random.random() <= mutation_chance: #Cada individuo de la poblacion (menos los padres) tienen una probabilidad de mutar\n",
    "            punto = random.randint(0,largo-1) #Se elgie un punto al azar\n",
    "            nuevo_valor = random.randint(1,9) #y un nuevo valor para este punto\n",
    "  \n",
    "            #Es importante mirar que el nuevo valor no sea igual al viejo\n",
    "            while nuevo_valor == population[i][punto]:\n",
    "                nuevo_valor = random.randint(1,9)\n",
    "  \n",
    "            #Se aplica la mutacion\n",
    "            population[i][punto] = nuevo_valor\n",
    "  \n",
    "    return population\n",
    " "
   ]
  },
  {
   "cell_type": "code",
   "execution_count": 98,
   "metadata": {},
   "outputs": [
    {
     "name": "stdout",
     "output_type": "stream",
     "text": [
      "Poblacion Inicial:\n",
      "[[6, 4, 1, 7, 9, 8, 2, 7, 2, 2], [9, 8, 6, 8, 2, 6, 1, 1, 1, 2], [6, 6, 3, 9, 9, 6, 5, 5, 3, 4], [5, 5, 5, 7, 9, 9, 1, 6, 5, 9], [4, 4, 2, 5, 6, 2, 9, 7, 6, 5], [8, 3, 9, 8, 3, 9, 2, 4, 6, 7], [1, 2, 5, 2, 6, 1, 7, 4, 6, 9], [5, 2, 2, 7, 8, 9, 4, 1, 5, 6], [2, 1, 7, 8, 1, 7, 7, 7, 6, 6], [3, 3, 6, 1, 9, 7, 5, 9, 3, 1]]\n",
      "\n",
      "Poblacion Final:\n",
      "[[1, 1, 1, 1, 5, 1, 1, 1, 1, 1], [6, 1, 1, 1, 5, 1, 1, 1, 1, 1], [1, 1, 1, 1, 5, 1, 1, 1, 1, 1], [1, 1, 1, 1, 5, 1, 1, 1, 1, 1], [1, 1, 1, 1, 5, 1, 1, 1, 1, 1], [1, 1, 1, 1, 5, 1, 1, 1, 1, 1], [1, 1, 1, 1, 5, 1, 1, 1, 1, 1], [1, 1, 1, 1, 5, 1, 1, 1, 1, 1], [1, 1, 1, 1, 5, 1, 1, 1, 1, 1], [1, 1, 1, 1, 5, 1, 1, 1, 1, 1]]\n",
      "\n",
      "\n",
      "\n"
     ]
    }
   ],
   "source": [
    "population = crearPoblacion()#Inicializar una poblacion\n",
    "print(\"Poblacion Inicial:\\n%s\"%(population)) #Se muestra la poblacion inicial\n",
    "  \n",
    "  \n",
    " #Se evoluciona la poblacion\n",
    "for i in range(100):\n",
    "    population = selection_and_reproduction(population)\n",
    "    population = mutation(population)\n",
    "  \n",
    "  \n",
    "print(\"\\nPoblacion Final:\\n%s\"%(population)) #Se muestra la poblacion evolucionada\n",
    "print(\"\\n\\n\")"
   ]
  },
  {
   "cell_type": "code",
   "execution_count": null,
   "metadata": {},
   "outputs": [],
   "source": []
  }
 ],
 "metadata": {
  "kernelspec": {
   "display_name": "Python 3",
   "language": "python",
   "name": "python3"
  },
  "language_info": {
   "codemirror_mode": {
    "name": "ipython",
    "version": 3
   },
   "file_extension": ".py",
   "mimetype": "text/x-python",
   "name": "python",
   "nbconvert_exporter": "python",
   "pygments_lexer": "ipython3",
   "version": "3.7.4"
  }
 },
 "nbformat": 4,
 "nbformat_minor": 2
}
