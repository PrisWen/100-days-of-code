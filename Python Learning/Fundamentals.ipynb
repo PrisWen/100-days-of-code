{
 "cells": [
  {
   "cell_type": "markdown",
   "metadata": {},
   "source": [
    "# Transposed matrix"
   ]
  },
  {
   "cell_type": "code",
   "execution_count": 12,
   "metadata": {},
   "outputs": [
    {
     "name": "stdout",
     "output_type": "stream",
     "text": [
      "1 2 3 \n",
      "4 5 6 \n",
      "7 8 9 \n"
     ]
    }
   ],
   "source": [
    "matrix = [[1,2,3],[4,5,6],[7,8,9]]\n",
    "for i in matrix:\n",
    "    for j in i:\n",
    "        print(j, end=' ')\n",
    "    print()"
   ]
  },
  {
   "cell_type": "code",
   "execution_count": 34,
   "metadata": {},
   "outputs": [
    {
     "name": "stdout",
     "output_type": "stream",
     "text": [
      "1 4 7 \n",
      "2 5 8 \n",
      "3 6 9 \n"
     ]
    }
   ],
   "source": [
    "for i in range(len(matrix[0])):\n",
    "    for j in range(len(matrix)):\n",
    "        print(matrix[j][i], end=' ')\n",
    "    print()"
   ]
  },
  {
   "cell_type": "markdown",
   "metadata": {},
   "source": [
    "# Vector to matrix"
   ]
  },
  {
   "cell_type": "code",
   "execution_count": 1,
   "metadata": {},
   "outputs": [
    {
     "name": "stdout",
     "output_type": "stream",
     "text": [
      "[26, 23, 18, 32, 30, 28, 34, 42, 29, 33, 21, 28, 35, 25, 30, 25]\n"
     ]
    }
   ],
   "source": [
    "ages = [26,23,18,32,30,28,34,42,29,33,21,28,35,25,30,25]\n",
    "print(ages)"
   ]
  },
  {
   "cell_type": "code",
   "execution_count": 2,
   "metadata": {},
   "outputs": [
    {
     "data": {
      "text/plain": [
       "[[26, 23, 18, 32], [30, 28, 34, 42], [29, 33, 21, 28], [35, 25, 30, 25]]"
      ]
     },
     "execution_count": 2,
     "metadata": {},
     "output_type": "execute_result"
    }
   ],
   "source": [
    "matriz_4 = []\n",
    "for i in range(0,4):\n",
    "    row = []\n",
    "    for j in range(0,4):\n",
    "        row.append(ages[i * 4 + j])\n",
    "    matriz_4.append(row)\n",
    "    \n",
    "matriz_4"
   ]
  },
  {
   "cell_type": "code",
   "execution_count": 4,
   "metadata": {},
   "outputs": [
    {
     "data": {
      "text/plain": [
       "array([[26, 23, 18, 32],\n",
       "       [30, 28, 34, 42],\n",
       "       [29, 33, 21, 28],\n",
       "       [35, 25, 30, 25]])"
      ]
     },
     "execution_count": 4,
     "metadata": {},
     "output_type": "execute_result"
    }
   ],
   "source": [
    "import numpy as np\n",
    "matriz_convertida = np.array(matriz_4)\n",
    "matriz_convertida"
   ]
  },
  {
   "cell_type": "markdown",
   "metadata": {},
   "source": [
    "# Matrix to vector"
   ]
  },
  {
   "cell_type": "code",
   "execution_count": 8,
   "metadata": {},
   "outputs": [
    {
     "data": {
      "text/plain": [
       "[26, 23, 18, 32, 30, 28, 34, 42, 29, 33, 21, 28, 35, 25, 30, 25]"
      ]
     },
     "execution_count": 8,
     "metadata": {},
     "output_type": "execute_result"
    }
   ],
   "source": [
    "matriz_to_vector=[]\n",
    "for i in range(0,4):\n",
    "    for j in range(0,4):\n",
    "        matriz_to_vector.append(matriz_convertida[i][j])\n",
    "matriz_to_vector"
   ]
  },
  {
   "cell_type": "markdown",
   "metadata": {},
   "source": [
    "# ¿Cuál es la relación entre imagenes y matrices?\n"
   ]
  },
  {
   "cell_type": "markdown",
   "metadata": {},
   "source": [
    "La representación matricial de imágenes multicolor depende de un sistema de color, cada píxel puede ser representado como un vector tridimensional."
   ]
  },
  {
   "cell_type": "markdown",
   "metadata": {},
   "source": [
    "# ¿Qué es le formato RGB, HSV?"
   ]
  },
  {
   "cell_type": "markdown",
   "metadata": {},
   "source": [
    "RGB es un sistema de color (el más popular), donde cada píxel especifica la cantidad de rojo (R), verde (G) y azul (B), y cada color puede variar de 0 a 255. Por lo tanto, en el RGB, un píxel puede ser representado como un vector tridimensional (r, g, b) donde r, g y b son números enteros de 0 a 255."
   ]
  },
  {
   "cell_type": "markdown",
   "metadata": {},
   "source": [
    "Modelo de color HSB (Hue, Saturation, Brightness – Tonalidad, Saturación, Brillo) - HSV (Hue, Saturation, Value).\n",
    "El modelo HSB (o HSV, como se prefiera) deriva del espacio RGB y representa los colores combinando tres valores: el tono en sí (H), la saturación o cantidad de color (S) y el brillo del mismo (B). Estos valores suelen representarse en un diagrama circular (principal uso de este modelo).\n",
    "Estas tres magnitudes pueden tener los siguientes valores:\n",
    "\n",
    "    H (color en concreto). Valores de 0-360º. La gama cromática se representa en una rueda circular y este valor expresa su posición.\n",
    "    S (Saturación). Valores de 0-100%. De menos a más cantidad de color. \n",
    "    B (Brillo). Valores de 0-100%. De totalmente oscuro a la máxima luminosidad. "
   ]
  },
  {
   "cell_type": "code",
   "execution_count": null,
   "metadata": {},
   "outputs": [],
   "source": []
  }
 ],
 "metadata": {
  "kernelspec": {
   "display_name": "Python 3",
   "language": "python",
   "name": "python3"
  },
  "language_info": {
   "codemirror_mode": {
    "name": "ipython",
    "version": 3
   },
   "file_extension": ".py",
   "mimetype": "text/x-python",
   "name": "python",
   "nbconvert_exporter": "python",
   "pygments_lexer": "ipython3",
   "version": "3.7.4"
  }
 },
 "nbformat": 4,
 "nbformat_minor": 2
}
