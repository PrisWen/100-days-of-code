{
 "cells": [
  {
   "cell_type": "markdown",
   "metadata": {
    "colab_type": "text",
    "id": "srch3Zzo3dHi"
   },
   "source": [
    "**Final project for Big Data: analysis on reviews of gourmet food purchases on Amazon**"
   ]
  },
  {
   "cell_type": "markdown",
   "metadata": {
    "colab_type": "text",
    "id": "tBNfbKlwzREa"
   },
   "source": [
    "Pyspark configuration"
   ]
  },
  {
   "cell_type": "code",
   "execution_count": 0,
   "metadata": {
    "colab": {},
    "colab_type": "code",
    "id": "2VuHAhPzDfwf"
   },
   "outputs": [],
   "source": [
    "!apt-get install openjdk-8-jdk-headless -qq > /dev/null"
   ]
  },
  {
   "cell_type": "code",
   "execution_count": 0,
   "metadata": {
    "colab": {},
    "colab_type": "code",
    "id": "9WLGH2ugEm_O"
   },
   "outputs": [],
   "source": [
    "from bs4 import BeautifulSoup\n",
    "import requests"
   ]
  },
  {
   "cell_type": "code",
   "execution_count": 0,
   "metadata": {
    "colab": {},
    "colab_type": "code",
    "id": "vEvYYkNmEo4x"
   },
   "outputs": [],
   "source": [
    "url = 'https://downloads.apache.org/spark/' \n",
    "r = requests.get(url)\n",
    "html_doc = r.text\n",
    "soup = BeautifulSoup(html_doc)"
   ]
  },
  {
   "cell_type": "code",
   "execution_count": 4,
   "metadata": {
    "colab": {
     "base_uri": "https://localhost:8080/",
     "height": 35
    },
    "colab_type": "code",
    "id": "Sj5L8pZfEtiq",
    "outputId": "2ab5a094-1c44-4402-eae0-94ace16e49c3"
   },
   "outputs": [
    {
     "name": "stdout",
     "output_type": "stream",
     "text": [
      "['spark-2.3.4/', 'spark-2.4.5/', 'spark-3.0.0-preview2/']\n"
     ]
    }
   ],
   "source": [
    "link_files = []\n",
    "for link in soup.find_all('a'):\n",
    "  link_files.append(link.get('href'))\n",
    "spark_link = [x for x in link_files if 'spark' in x]  \n",
    "print(spark_link)"
   ]
  },
  {
   "cell_type": "code",
   "execution_count": 5,
   "metadata": {
    "colab": {
     "base_uri": "https://localhost:8080/",
     "height": 35
    },
    "colab_type": "code",
    "id": "eaNT-OmIE3LR",
    "outputId": "f58d612a-9c64-4b6c-b6e9-754730e2f075"
   },
   "outputs": [
    {
     "name": "stdout",
     "output_type": "stream",
     "text": [
      "spark-2.4.5\n"
     ]
    }
   ],
   "source": [
    "ver_spark = spark_link[1][:-1]\n",
    "print(ver_spark)"
   ]
  },
  {
   "cell_type": "code",
   "execution_count": 0,
   "metadata": {
    "colab": {},
    "colab_type": "code",
    "id": "KNDFnRb5FWQr"
   },
   "outputs": [],
   "source": [
    "import os\n",
    "link = \"https://www-us.apache.org/dist/spark/\"\n",
    "os.system(f\"wget -q {link}{ver_spark}/{ver_spark}-bin-hadoop2.7.tgz\")\n",
    "os.system(f\"tar xf {ver_spark}-bin-hadoop2.7.tgz\")\n",
    "\n",
    "\n",
    "!pip install -q pyspark"
   ]
  },
  {
   "cell_type": "code",
   "execution_count": 0,
   "metadata": {
    "colab": {},
    "colab_type": "code",
    "id": "BYOKM3HWFhr-"
   },
   "outputs": [],
   "source": [
    "os.environ[\"JAVA_HOME\"] = \"/usr/lib/jvm/java-8-openjdk-amd64\"\n",
    "os.environ[\"SPARK_HOME\"] = f\"/content/{ver_spark}-bin-hadoop2.7\""
   ]
  },
  {
   "cell_type": "code",
   "execution_count": 0,
   "metadata": {
    "colab": {},
    "colab_type": "code",
    "id": "4iA5HwTd6CG-"
   },
   "outputs": [],
   "source": [
    "from pyspark.sql import SparkSession\n",
    "import os\n",
    "MAX_MEMORY = \"5g\"\n",
    "spark = SparkSession.builder \\\n",
    "                    .appName('Test_spark').master(\"local[*]\")\\\n",
    "                    .config(\"spark.executor.memory\", MAX_MEMORY) \\\n",
    "                    .config(\"spark.driver.memory\", MAX_MEMORY) \\\n",
    "                    .getOrCreate()"
   ]
  },
  {
   "cell_type": "markdown",
   "metadata": {
    "colab_type": "text",
    "id": "IoXiF_HMzdaK"
   },
   "source": [
    "Download Amazon Grocery and Gourmet Food Reviews"
   ]
  },
  {
   "cell_type": "code",
   "execution_count": 9,
   "metadata": {
    "colab": {
     "base_uri": "https://localhost:8080/",
     "height": 217
    },
    "colab_type": "code",
    "id": "xbQOp3v99m-d",
    "outputId": "034b3f7c-0ba5-4ca8-c3ae-e84322b5c2da"
   },
   "outputs": [
    {
     "name": "stdout",
     "output_type": "stream",
     "text": [
      "--2020-05-29 00:24:35--  http://deepyeti.ucsd.edu/jianmo/amazon/categoryFilesSmall/Grocery_and_Gourmet_Food_5.json.gz\n",
      "Resolving deepyeti.ucsd.edu (deepyeti.ucsd.edu)... 169.228.63.50\n",
      "Connecting to deepyeti.ucsd.edu (deepyeti.ucsd.edu)|169.228.63.50|:80... connected.\n",
      "HTTP request sent, awaiting response... 200 OK\n",
      "Length: 146631394 (140M) [application/octet-stream]\n",
      "Saving to: ‘Grocery_and_Gourmet_Food_5.json.gz’\n",
      "\n",
      "Grocery_and_Gourmet 100%[===================>] 139.84M  21.4MB/s    in 7.4s    \n",
      "\n",
      "2020-05-29 00:24:43 (18.9 MB/s) - ‘Grocery_and_Gourmet_Food_5.json.gz’ saved [146631394/146631394]\n",
      "\n"
     ]
    }
   ],
   "source": [
    "!wget http://deepyeti.ucsd.edu/jianmo/amazon/categoryFilesSmall/Grocery_and_Gourmet_Food_5.json.gz"
   ]
  },
  {
   "cell_type": "code",
   "execution_count": 0,
   "metadata": {
    "colab": {},
    "colab_type": "code",
    "id": "EXUUe7ko9m-o"
   },
   "outputs": [],
   "source": [
    "df = spark.read.json(\"Grocery_and_Gourmet_Food_5.json.gz\")"
   ]
  },
  {
   "cell_type": "markdown",
   "metadata": {
    "colab_type": "text",
    "id": "iCuRzD8h1zNx"
   },
   "source": [
    "Printing the scheme and seeing the columns of the dataset"
   ]
  },
  {
   "cell_type": "code",
   "execution_count": 11,
   "metadata": {
    "colab": {
     "base_uri": "https://localhost:8080/",
     "height": 617
    },
    "colab_type": "code",
    "id": "Npag-FTM9m-z",
    "outputId": "cfc41766-436b-4965-baf0-0b46640e038c"
   },
   "outputs": [
    {
     "name": "stdout",
     "output_type": "stream",
     "text": [
      "root\n",
      " |-- asin: string (nullable = true)\n",
      " |-- image: array (nullable = true)\n",
      " |    |-- element: string (containsNull = true)\n",
      " |-- overall: double (nullable = true)\n",
      " |-- reviewText: string (nullable = true)\n",
      " |-- reviewTime: string (nullable = true)\n",
      " |-- reviewerID: string (nullable = true)\n",
      " |-- reviewerName: string (nullable = true)\n",
      " |-- style: struct (nullable = true)\n",
      " |    |-- Color:: string (nullable = true)\n",
      " |    |-- Design:: string (nullable = true)\n",
      " |    |-- Edition:: string (nullable = true)\n",
      " |    |-- Flavor Name:: string (nullable = true)\n",
      " |    |-- Flavor:: string (nullable = true)\n",
      " |    |-- Format:: string (nullable = true)\n",
      " |    |-- Item Display Weight:: string (nullable = true)\n",
      " |    |-- Item Package Quantity:: string (nullable = true)\n",
      " |    |-- Number of Items:: string (nullable = true)\n",
      " |    |-- Package Quantity:: string (nullable = true)\n",
      " |    |-- Package Type:: string (nullable = true)\n",
      " |    |-- Product Packaging:: string (nullable = true)\n",
      " |    |-- Scent Name:: string (nullable = true)\n",
      " |    |-- Size Name:: string (nullable = true)\n",
      " |    |-- Size:: string (nullable = true)\n",
      " |    |-- Style Name:: string (nullable = true)\n",
      " |    |-- Style:: string (nullable = true)\n",
      " |    |-- Unit Count:: string (nullable = true)\n",
      " |-- summary: string (nullable = true)\n",
      " |-- unixReviewTime: long (nullable = true)\n",
      " |-- verified: boolean (nullable = true)\n",
      " |-- vote: string (nullable = true)\n",
      "\n"
     ]
    }
   ],
   "source": [
    "df.printSchema()"
   ]
  },
  {
   "cell_type": "markdown",
   "metadata": {
    "colab_type": "text",
    "id": "aV78fED92lHL"
   },
   "source": [
    "We can show the first rows"
   ]
  },
  {
   "cell_type": "code",
   "execution_count": 12,
   "metadata": {
    "colab": {
     "base_uri": "https://localhost:8080/",
     "height": 489
    },
    "colab_type": "code",
    "id": "aoaaHi5v9m_d",
    "outputId": "6e4a0364-d9ff-4de4-bd22-116df6f21e59"
   },
   "outputs": [
    {
     "name": "stdout",
     "output_type": "stream",
     "text": [
      "+----------+-----+-------+--------------------+-----------+--------------+-----------------+-----+--------------------+--------------+--------+----+\n",
      "|      asin|image|overall|          reviewText| reviewTime|    reviewerID|     reviewerName|style|             summary|unixReviewTime|verified|vote|\n",
      "+----------+-----+-------+--------------------+-----------+--------------+-----------------+-----+--------------------+--------------+--------+----+\n",
      "|4639725183| null|    5.0| No adverse comment.|11 19, 2014|A1QVBUH9E1V6I8|   Jamshed Mathur| null|          Five Stars|    1416355200|    true|null|\n",
      "|4639725183| null|    5.0|Gift for college ...|10 13, 2016|A3GEOILWLK86XM|        itsjustme| null|      Great product.|    1476316800|    true|null|\n",
      "|4639725183| null|    5.0|If you like stron...|11 21, 2015|A32RD6L701BIGP|  Krystal Clifton| null|              Strong|    1448064000|    true|null|\n",
      "|4639725183| null|    5.0|Love the tea. The...|08 12, 2015|A2UY1O1FBGKIE6|          U. Kane| null|           Great tea|    1439337600|    true|null|\n",
      "|4639725183| null|    5.0|I have searched e...|05 28, 2015|A3QHVBQYDV7Z6U|         The Nana| null|This is the tea I...|    1432771200|    true|null|\n",
      "|4639725183| null|    4.0|Tea made with Lip...| 05 9, 2015|A14MJZP7H1KHEX|    Carol Ann Nix| null|          Four Stars|    1431129600|    true|null|\n",
      "|4639725183| null|    5.0|I love this tea! ...| 05 7, 2015| A32CQJQBV7YRT|       Corsair174| null|      Love this tea!|    1430956800|    true|null|\n",
      "|4639725183| null|    5.0|Discovered this t...|01 28, 2015|A2EUMXCQHCP25R|         Metajohn| null|           Great tea|    1422403200|    true|null|\n",
      "|4639725183| null|    4.0|Well I bought thi...|12 23, 2014|A3QD1PUOO5I94A|                B| null|Well I bought thi...|    1419292800|    true|null|\n",
      "|4639725183| null|    5.0|We really like th...|12 17, 2014| A9E9L159FFMHP|          S. Wood| null|We really like th...|    1418774400|    true|null|\n",
      "|4639725183| null|    5.0|Hard to find in t...|11 25, 2014|A1B65ENXWAN2SB|     Craig Rokosz| null|       good quality.|    1416873600|    true|null|\n",
      "|4639725043| null|    5.0|I make the best b...|04 29, 2012|A1J205ZK25TZ6W|kez panel project| null|Best for brewed i...|    1335657600|    true|   8|\n",
      "|4639725043| null|    3.0|I have recently s...|04 11, 2008| ACOICLIJQYECU|              N D| null|Not Bad for iced Tea|    1207872000|    true|   9|\n",
      "|4639725043| null|    5.0|I like pretty muc...|03 15, 2017|A29RCQA5G0B1BA| Edward Pendleton| null|   A Great Cuppa...!|    1489536000|    true|null|\n",
      "|4639725043| null|    5.0|I was watching a ...| 03 4, 2017|A34KF6WKUMO0G5|  Kindle Customer| null|Strong for this A...|    1488585600|    true|null|\n",
      "|4639725043| null|    3.0|it was ok, but it...|02 27, 2017|A2AW00VDYVKKKK|    Lou S. Hegwer| null|        not the same|    1488153600|    true|null|\n",
      "|4639725043| null|    5.0|Great taste use i...| 02 2, 2017|A2LNL6MN1OEXAM|         G. Smith| null|Great taste use i...|    1485993600|    true|null|\n",
      "|4639725043| null|    5.0|Best tea for my s...|08 28, 2016|A32TZ4HWVHBYX7|          cowgirl| null|Best tea for my s...|    1472342400|    true|null|\n",
      "|4639725043| null|    4.0|Good tea. Way bet...| 05 8, 2016|A2AGPIWL0G3UQR|   Paul C. Caliri| null|          Four Stars|    1462665600|    true|null|\n",
      "|4639725043| null|    1.0|This tea looks li...|03 11, 2016|A2PMV21JFDKJIU|      shopAholicr| null|does not look any...|    1457654400|    true|null|\n",
      "+----------+-----+-------+--------------------+-----------+--------------+-----------------+-----+--------------------+--------------+--------+----+\n",
      "only showing top 20 rows\n",
      "\n"
     ]
    }
   ],
   "source": [
    "df.show()"
   ]
  },
  {
   "cell_type": "code",
   "execution_count": 13,
   "metadata": {
    "colab": {
     "base_uri": "https://localhost:8080/",
     "height": 143
    },
    "colab_type": "code",
    "id": "wMshKHCn9m_k",
    "outputId": "22f68366-1968-49c3-b0c8-8ff96d9c73bb"
   },
   "outputs": [
    {
     "data": {
      "text/html": [
       "<div>\n",
       "<style scoped>\n",
       "    .dataframe tbody tr th:only-of-type {\n",
       "        vertical-align: middle;\n",
       "    }\n",
       "\n",
       "    .dataframe tbody tr th {\n",
       "        vertical-align: top;\n",
       "    }\n",
       "\n",
       "    .dataframe thead th {\n",
       "        text-align: right;\n",
       "    }\n",
       "</style>\n",
       "<table border=\"1\" class=\"dataframe\">\n",
       "  <thead>\n",
       "    <tr style=\"text-align: right;\">\n",
       "      <th></th>\n",
       "      <th>asin</th>\n",
       "      <th>image</th>\n",
       "      <th>overall</th>\n",
       "      <th>reviewText</th>\n",
       "      <th>reviewTime</th>\n",
       "      <th>reviewerID</th>\n",
       "      <th>reviewerName</th>\n",
       "      <th>style</th>\n",
       "      <th>summary</th>\n",
       "      <th>unixReviewTime</th>\n",
       "      <th>verified</th>\n",
       "      <th>vote</th>\n",
       "    </tr>\n",
       "  </thead>\n",
       "  <tbody>\n",
       "    <tr>\n",
       "      <th>0</th>\n",
       "      <td>4639725183</td>\n",
       "      <td>None</td>\n",
       "      <td>5.0</td>\n",
       "      <td>No adverse comment.</td>\n",
       "      <td>11 19, 2014</td>\n",
       "      <td>A1QVBUH9E1V6I8</td>\n",
       "      <td>Jamshed Mathur</td>\n",
       "      <td>None</td>\n",
       "      <td>Five Stars</td>\n",
       "      <td>1416355200</td>\n",
       "      <td>True</td>\n",
       "      <td>None</td>\n",
       "    </tr>\n",
       "    <tr>\n",
       "      <th>1</th>\n",
       "      <td>4639725183</td>\n",
       "      <td>None</td>\n",
       "      <td>5.0</td>\n",
       "      <td>Gift for college student.</td>\n",
       "      <td>10 13, 2016</td>\n",
       "      <td>A3GEOILWLK86XM</td>\n",
       "      <td>itsjustme</td>\n",
       "      <td>None</td>\n",
       "      <td>Great product.</td>\n",
       "      <td>1476316800</td>\n",
       "      <td>True</td>\n",
       "      <td>None</td>\n",
       "    </tr>\n",
       "    <tr>\n",
       "      <th>2</th>\n",
       "      <td>4639725183</td>\n",
       "      <td>None</td>\n",
       "      <td>5.0</td>\n",
       "      <td>If you like strong tea, this is for you. It mi...</td>\n",
       "      <td>11 21, 2015</td>\n",
       "      <td>A32RD6L701BIGP</td>\n",
       "      <td>Krystal Clifton</td>\n",
       "      <td>None</td>\n",
       "      <td>Strong</td>\n",
       "      <td>1448064000</td>\n",
       "      <td>True</td>\n",
       "      <td>None</td>\n",
       "    </tr>\n",
       "  </tbody>\n",
       "</table>\n",
       "</div>"
      ],
      "text/plain": [
       "         asin image  overall  ... unixReviewTime verified  vote\n",
       "0  4639725183  None      5.0  ...     1416355200     True  None\n",
       "1  4639725183  None      5.0  ...     1476316800     True  None\n",
       "2  4639725183  None      5.0  ...     1448064000     True  None\n",
       "\n",
       "[3 rows x 12 columns]"
      ]
     },
     "execution_count": 13,
     "metadata": {
      "tags": []
     },
     "output_type": "execute_result"
    }
   ],
   "source": [
    "df_dataset = df.limit(3)\n",
    "df_dataset.toPandas()"
   ]
  },
  {
   "cell_type": "markdown",
   "metadata": {
    "colab_type": "text",
    "id": "Ef-DHcwg6Hjc"
   },
   "source": [
    "Describing the columns"
   ]
  },
  {
   "cell_type": "code",
   "execution_count": 14,
   "metadata": {
    "colab": {
     "base_uri": "https://localhost:8080/",
     "height": 363
    },
    "colab_type": "code",
    "id": "rYW871MY9m_x",
    "outputId": "1399b406-9d6e-47df-cd23-864d6b5dcc15"
   },
   "outputs": [
    {
     "data": {
      "text/html": [
       "<div>\n",
       "<style scoped>\n",
       "    .dataframe tbody tr th:only-of-type {\n",
       "        vertical-align: middle;\n",
       "    }\n",
       "\n",
       "    .dataframe tbody tr th {\n",
       "        vertical-align: top;\n",
       "    }\n",
       "\n",
       "    .dataframe thead th {\n",
       "        text-align: right;\n",
       "    }\n",
       "</style>\n",
       "<table border=\"1\" class=\"dataframe\">\n",
       "  <thead>\n",
       "    <tr style=\"text-align: right;\">\n",
       "      <th></th>\n",
       "      <th>0</th>\n",
       "      <th>1</th>\n",
       "      <th>2</th>\n",
       "      <th>3</th>\n",
       "      <th>4</th>\n",
       "    </tr>\n",
       "  </thead>\n",
       "  <tbody>\n",
       "    <tr>\n",
       "      <th>summary</th>\n",
       "      <td>count</td>\n",
       "      <td>mean</td>\n",
       "      <td>stddev</td>\n",
       "      <td>min</td>\n",
       "      <td>max</td>\n",
       "    </tr>\n",
       "    <tr>\n",
       "      <th>asin</th>\n",
       "      <td>1143860</td>\n",
       "      <td>8.022473689795918E9</td>\n",
       "      <td>2.3749861105498543E9</td>\n",
       "      <td>4639725043</td>\n",
       "      <td>B01HJF6FRA</td>\n",
       "    </tr>\n",
       "    <tr>\n",
       "      <th>overall</th>\n",
       "      <td>1143860</td>\n",
       "      <td>4.442208836745755</td>\n",
       "      <td>1.0639007882174811</td>\n",
       "      <td>1.0</td>\n",
       "      <td>5.0</td>\n",
       "    </tr>\n",
       "    <tr>\n",
       "      <th>reviewText</th>\n",
       "      <td>1143470</td>\n",
       "      <td>2.7032967032967035</td>\n",
       "      <td>10.389625707614412</td>\n",
       "      <td>\\n\\n\\n\\n\\n\\nI</td>\n",
       "      <td>~Who doesn't like Oreos? Great product~</td>\n",
       "    </tr>\n",
       "    <tr>\n",
       "      <th>reviewTime</th>\n",
       "      <td>1143860</td>\n",
       "      <td>None</td>\n",
       "      <td>None</td>\n",
       "      <td>01 1, 2007</td>\n",
       "      <td>12 9, 2017</td>\n",
       "    </tr>\n",
       "    <tr>\n",
       "      <th>reviewerID</th>\n",
       "      <td>1143860</td>\n",
       "      <td>None</td>\n",
       "      <td>None</td>\n",
       "      <td>A0096681Y127OL1H8W3U</td>\n",
       "      <td>AZZZ5UJWUVCYZ</td>\n",
       "    </tr>\n",
       "    <tr>\n",
       "      <th>reviewerName</th>\n",
       "      <td>1143722</td>\n",
       "      <td>1.407770617721789E8</td>\n",
       "      <td>5.76922280597008E8</td>\n",
       "      <td>funfunfunfun</td>\n",
       "      <td>~~Trish~~</td>\n",
       "    </tr>\n",
       "    <tr>\n",
       "      <th>summary</th>\n",
       "      <td>1143641</td>\n",
       "      <td>36.583333333333336</td>\n",
       "      <td>148.125289701912</td>\n",
       "      <td></td>\n",
       "      <td>~~~~~~~~~~~  The Stinking Rose</td>\n",
       "    </tr>\n",
       "    <tr>\n",
       "      <th>unixReviewTime</th>\n",
       "      <td>1143860</td>\n",
       "      <td>1.4417709420271711E9</td>\n",
       "      <td>5.969109372305015E7</td>\n",
       "      <td>965779200</td>\n",
       "      <td>1538438400</td>\n",
       "    </tr>\n",
       "    <tr>\n",
       "      <th>vote</th>\n",
       "      <td>158202</td>\n",
       "      <td>6.631209977685486</td>\n",
       "      <td>18.01094167062252</td>\n",
       "      <td>1,060</td>\n",
       "      <td>99</td>\n",
       "    </tr>\n",
       "  </tbody>\n",
       "</table>\n",
       "</div>"
      ],
      "text/plain": [
       "                      0  ...                                        4\n",
       "summary           count  ...                                      max\n",
       "asin            1143860  ...                               B01HJF6FRA\n",
       "overall         1143860  ...                                      5.0\n",
       "reviewText      1143470  ...  ~Who doesn't like Oreos? Great product~\n",
       "reviewTime      1143860  ...                               12 9, 2017\n",
       "reviewerID      1143860  ...                            AZZZ5UJWUVCYZ\n",
       "reviewerName    1143722  ...                                ~~Trish~~\n",
       "summary         1143641  ...           ~~~~~~~~~~~  The Stinking Rose\n",
       "unixReviewTime  1143860  ...                               1538438400\n",
       "vote             158202  ...                                       99\n",
       "\n",
       "[10 rows x 5 columns]"
      ]
     },
     "execution_count": 14,
     "metadata": {
      "tags": []
     },
     "output_type": "execute_result"
    }
   ],
   "source": [
    "df_describe = df.describe().toPandas().transpose()\n",
    "df_describe"
   ]
  },
  {
   "cell_type": "markdown",
   "metadata": {
    "colab_type": "text",
    "id": "iJVTC_kZ29M5"
   },
   "source": [
    "We want to analize reviews and overall so we focus in this two columns"
   ]
  },
  {
   "cell_type": "code",
   "execution_count": 0,
   "metadata": {
    "colab": {},
    "colab_type": "code",
    "id": "Mr9Kp_sR9nAY"
   },
   "outputs": [],
   "source": [
    "df_sort = df.sort(\"reviewText\")"
   ]
  },
  {
   "cell_type": "code",
   "execution_count": 16,
   "metadata": {
    "colab": {
     "base_uri": "https://localhost:8080/",
     "height": 55
    },
    "colab_type": "code",
    "id": "CO6iUJyP9nAm",
    "outputId": "924d0359-1bea-4a8e-cbf4-8610a7a015d1"
   },
   "outputs": [
    {
     "data": {
      "text/plain": [
       "Row(asin='B0000CNU0C', image=None, overall=5.0, reviewText=None, reviewTime='12 12, 2016', reviewerID='A29IPYI7CGEM70', reviewerName='Amazon Customer', style=None, summary='Five Stars', unixReviewTime=1481500800, verified=True, vote=None)"
      ]
     },
     "execution_count": 16,
     "metadata": {
      "tags": []
     },
     "output_type": "execute_result"
    }
   ],
   "source": [
    "df_sort.head()"
   ]
  },
  {
   "cell_type": "code",
   "execution_count": 17,
   "metadata": {
    "colab": {
     "base_uri": "https://localhost:8080/",
     "height": 1000
    },
    "colab_type": "code",
    "id": "YDyyphJh9nAy",
    "outputId": "d6d188fe-6993-4c81-9313-094a930cc0a8"
   },
   "outputs": [
    {
     "data": {
      "text/html": [
       "<div>\n",
       "<style scoped>\n",
       "    .dataframe tbody tr th:only-of-type {\n",
       "        vertical-align: middle;\n",
       "    }\n",
       "\n",
       "    .dataframe tbody tr th {\n",
       "        vertical-align: top;\n",
       "    }\n",
       "\n",
       "    .dataframe thead th {\n",
       "        text-align: right;\n",
       "    }\n",
       "</style>\n",
       "<table border=\"1\" class=\"dataframe\">\n",
       "  <thead>\n",
       "    <tr style=\"text-align: right;\">\n",
       "      <th></th>\n",
       "      <th>asin</th>\n",
       "      <th>image</th>\n",
       "      <th>overall</th>\n",
       "      <th>reviewText</th>\n",
       "      <th>reviewTime</th>\n",
       "      <th>reviewerID</th>\n",
       "      <th>reviewerName</th>\n",
       "      <th>style</th>\n",
       "      <th>summary</th>\n",
       "      <th>unixReviewTime</th>\n",
       "      <th>verified</th>\n",
       "      <th>vote</th>\n",
       "    </tr>\n",
       "  </thead>\n",
       "  <tbody>\n",
       "    <tr>\n",
       "      <th>0</th>\n",
       "      <td>B0006OCZ4E</td>\n",
       "      <td>None</td>\n",
       "      <td>5.0</td>\n",
       "      <td>None</td>\n",
       "      <td>10 7, 2015</td>\n",
       "      <td>A2B9A7UJSX2SYA</td>\n",
       "      <td>Emma V. Aguilar</td>\n",
       "      <td>(None, None, None, None, None, None, None, Non...</td>\n",
       "      <td>Five Stars</td>\n",
       "      <td>1444176000</td>\n",
       "      <td>True</td>\n",
       "      <td>None</td>\n",
       "    </tr>\n",
       "    <tr>\n",
       "      <th>1</th>\n",
       "      <td>B0007LXU0Y</td>\n",
       "      <td>None</td>\n",
       "      <td>5.0</td>\n",
       "      <td>None</td>\n",
       "      <td>03 29, 2015</td>\n",
       "      <td>APA3RAMHRYXAQ</td>\n",
       "      <td>Carolyn Mineo</td>\n",
       "      <td>(None, None, None, None,  Chocolate Almond and...</td>\n",
       "      <td>Five Stars</td>\n",
       "      <td>1427587200</td>\n",
       "      <td>True</td>\n",
       "      <td>None</td>\n",
       "    </tr>\n",
       "    <tr>\n",
       "      <th>2</th>\n",
       "      <td>B0000CNU0C</td>\n",
       "      <td>None</td>\n",
       "      <td>5.0</td>\n",
       "      <td>None</td>\n",
       "      <td>12 12, 2016</td>\n",
       "      <td>A29IPYI7CGEM70</td>\n",
       "      <td>Amazon Customer</td>\n",
       "      <td>None</td>\n",
       "      <td>Five Stars</td>\n",
       "      <td>1481500800</td>\n",
       "      <td>True</td>\n",
       "      <td>None</td>\n",
       "    </tr>\n",
       "    <tr>\n",
       "      <th>3</th>\n",
       "      <td>B00099XOVO</td>\n",
       "      <td>None</td>\n",
       "      <td>5.0</td>\n",
       "      <td>None</td>\n",
       "      <td>07 7, 2015</td>\n",
       "      <td>A1JRZK0W6SILYS</td>\n",
       "      <td>Memete</td>\n",
       "      <td>None</td>\n",
       "      <td>Five Stars</td>\n",
       "      <td>1436227200</td>\n",
       "      <td>True</td>\n",
       "      <td>None</td>\n",
       "    </tr>\n",
       "    <tr>\n",
       "      <th>4</th>\n",
       "      <td>B00061EOVO</td>\n",
       "      <td>None</td>\n",
       "      <td>5.0</td>\n",
       "      <td>None</td>\n",
       "      <td>11 11, 2016</td>\n",
       "      <td>AEFTYRHRFJFOF</td>\n",
       "      <td>Kindle Customer</td>\n",
       "      <td>None</td>\n",
       "      <td>Five Stars</td>\n",
       "      <td>1478822400</td>\n",
       "      <td>True</td>\n",
       "      <td>None</td>\n",
       "    </tr>\n",
       "    <tr>\n",
       "      <th>5</th>\n",
       "      <td>B00099XOQO</td>\n",
       "      <td>None</td>\n",
       "      <td>5.0</td>\n",
       "      <td>None</td>\n",
       "      <td>06 24, 2015</td>\n",
       "      <td>A1JRZK0W6SILYS</td>\n",
       "      <td>Memete</td>\n",
       "      <td>None</td>\n",
       "      <td>Five Stars</td>\n",
       "      <td>1435104000</td>\n",
       "      <td>True</td>\n",
       "      <td>None</td>\n",
       "    </tr>\n",
       "    <tr>\n",
       "      <th>6</th>\n",
       "      <td>B0001DMTPU</td>\n",
       "      <td>None</td>\n",
       "      <td>5.0</td>\n",
       "      <td>None</td>\n",
       "      <td>10 7, 2015</td>\n",
       "      <td>A2B9A7UJSX2SYA</td>\n",
       "      <td>Emma V. Aguilar</td>\n",
       "      <td>(None, None, None, None, None, None, None, Non...</td>\n",
       "      <td>Five Stars</td>\n",
       "      <td>1444176000</td>\n",
       "      <td>True</td>\n",
       "      <td>None</td>\n",
       "    </tr>\n",
       "    <tr>\n",
       "      <th>7</th>\n",
       "      <td>B0009F3PM6</td>\n",
       "      <td>None</td>\n",
       "      <td>5.0</td>\n",
       "      <td>None</td>\n",
       "      <td>04 4, 2018</td>\n",
       "      <td>A2YA1ACC6QYBIP</td>\n",
       "      <td>TCSS</td>\n",
       "      <td>(None, None, None, None,  Linden Flower with H...</td>\n",
       "      <td>None</td>\n",
       "      <td>1522800000</td>\n",
       "      <td>True</td>\n",
       "      <td>None</td>\n",
       "    </tr>\n",
       "    <tr>\n",
       "      <th>8</th>\n",
       "      <td>B0001UXQ9Q</td>\n",
       "      <td>[https://images-na.ssl-images-amazon.com/image...</td>\n",
       "      <td>5.0</td>\n",
       "      <td>None</td>\n",
       "      <td>05 8, 2016</td>\n",
       "      <td>A2YKKMPOZSU08Y</td>\n",
       "      <td>Amazon Customer</td>\n",
       "      <td>(None, None, None, None, None, None, None, Non...</td>\n",
       "      <td>Good</td>\n",
       "      <td>1462665600</td>\n",
       "      <td>True</td>\n",
       "      <td>4</td>\n",
       "    </tr>\n",
       "    <tr>\n",
       "      <th>9</th>\n",
       "      <td>B0009F3SC8</td>\n",
       "      <td>None</td>\n",
       "      <td>5.0</td>\n",
       "      <td>None</td>\n",
       "      <td>05 31, 2016</td>\n",
       "      <td>A2RDG3NV6H0214</td>\n",
       "      <td>Dunia72</td>\n",
       "      <td>(None, None, None, None,  Green Tea Blueberry ...</td>\n",
       "      <td>Five Stars</td>\n",
       "      <td>1464652800</td>\n",
       "      <td>True</td>\n",
       "      <td>None</td>\n",
       "    </tr>\n",
       "    <tr>\n",
       "      <th>10</th>\n",
       "      <td>B00061EOVO</td>\n",
       "      <td>None</td>\n",
       "      <td>4.0</td>\n",
       "      <td>None</td>\n",
       "      <td>12 31, 2016</td>\n",
       "      <td>A12DHQMPGUP3WN</td>\n",
       "      <td>khadina modeste</td>\n",
       "      <td>None</td>\n",
       "      <td>Four Stars</td>\n",
       "      <td>1483142400</td>\n",
       "      <td>True</td>\n",
       "      <td>None</td>\n",
       "    </tr>\n",
       "    <tr>\n",
       "      <th>11</th>\n",
       "      <td>B0009F3QKW</td>\n",
       "      <td>None</td>\n",
       "      <td>5.0</td>\n",
       "      <td>None</td>\n",
       "      <td>05 31, 2016</td>\n",
       "      <td>A2RDG3NV6H0214</td>\n",
       "      <td>Dunia72</td>\n",
       "      <td>(None, None, None, None,  Honey Lavender Stres...</td>\n",
       "      <td>Five Stars</td>\n",
       "      <td>1464652800</td>\n",
       "      <td>True</td>\n",
       "      <td>None</td>\n",
       "    </tr>\n",
       "    <tr>\n",
       "      <th>12</th>\n",
       "      <td>B0006O4OIO</td>\n",
       "      <td>None</td>\n",
       "      <td>5.0</td>\n",
       "      <td>None</td>\n",
       "      <td>10 29, 2017</td>\n",
       "      <td>A28ZLHYEYI0F2B</td>\n",
       "      <td>LDB</td>\n",
       "      <td>None</td>\n",
       "      <td>Five Stars</td>\n",
       "      <td>1509235200</td>\n",
       "      <td>True</td>\n",
       "      <td>None</td>\n",
       "    </tr>\n",
       "    <tr>\n",
       "      <th>13</th>\n",
       "      <td>B0009F3QKM</td>\n",
       "      <td>None</td>\n",
       "      <td>5.0</td>\n",
       "      <td>None</td>\n",
       "      <td>05 31, 2016</td>\n",
       "      <td>A2RDG3NV6H0214</td>\n",
       "      <td>Dunia72</td>\n",
       "      <td>None</td>\n",
       "      <td>Five Stars</td>\n",
       "      <td>1464652800</td>\n",
       "      <td>True</td>\n",
       "      <td>None</td>\n",
       "    </tr>\n",
       "    <tr>\n",
       "      <th>14</th>\n",
       "      <td>B000CC9DYK</td>\n",
       "      <td>None</td>\n",
       "      <td>5.0</td>\n",
       "      <td>None</td>\n",
       "      <td>09 7, 2017</td>\n",
       "      <td>A1F208PMEJAWRT</td>\n",
       "      <td>lisa unsworth</td>\n",
       "      <td>None</td>\n",
       "      <td>Five Stars</td>\n",
       "      <td>1504742400</td>\n",
       "      <td>True</td>\n",
       "      <td>None</td>\n",
       "    </tr>\n",
       "    <tr>\n",
       "      <th>15</th>\n",
       "      <td>B0009VFDEI</td>\n",
       "      <td>None</td>\n",
       "      <td>5.0</td>\n",
       "      <td>None</td>\n",
       "      <td>06 4, 2016</td>\n",
       "      <td>A5LS1V02R9V3H</td>\n",
       "      <td>Christine Zitko</td>\n",
       "      <td>(None, None, None, None,  Purely Unflavored, N...</td>\n",
       "      <td>Five Stars</td>\n",
       "      <td>1464998400</td>\n",
       "      <td>True</td>\n",
       "      <td>None</td>\n",
       "    </tr>\n",
       "    <tr>\n",
       "      <th>16</th>\n",
       "      <td>B00061EOVO</td>\n",
       "      <td>None</td>\n",
       "      <td>5.0</td>\n",
       "      <td>None</td>\n",
       "      <td>02 2, 2017</td>\n",
       "      <td>AP6XV1V5UMMP7</td>\n",
       "      <td>Nelly C.</td>\n",
       "      <td>None</td>\n",
       "      <td>Five Stars</td>\n",
       "      <td>1485993600</td>\n",
       "      <td>True</td>\n",
       "      <td>None</td>\n",
       "    </tr>\n",
       "    <tr>\n",
       "      <th>17</th>\n",
       "      <td>B000BH3K8G</td>\n",
       "      <td>None</td>\n",
       "      <td>5.0</td>\n",
       "      <td>None</td>\n",
       "      <td>05 31, 2016</td>\n",
       "      <td>A2RDG3NV6H0214</td>\n",
       "      <td>Dunia72</td>\n",
       "      <td>(None, None, None, None, None, None, None, Non...</td>\n",
       "      <td>Five Stars</td>\n",
       "      <td>1464652800</td>\n",
       "      <td>True</td>\n",
       "      <td>None</td>\n",
       "    </tr>\n",
       "    <tr>\n",
       "      <th>18</th>\n",
       "      <td>B000CQ020U</td>\n",
       "      <td>None</td>\n",
       "      <td>5.0</td>\n",
       "      <td>None</td>\n",
       "      <td>06 24, 2015</td>\n",
       "      <td>A1JRZK0W6SILYS</td>\n",
       "      <td>Memete</td>\n",
       "      <td>None</td>\n",
       "      <td>Five Stars</td>\n",
       "      <td>1435104000</td>\n",
       "      <td>True</td>\n",
       "      <td>None</td>\n",
       "    </tr>\n",
       "    <tr>\n",
       "      <th>19</th>\n",
       "      <td>B000CQC04G</td>\n",
       "      <td>None</td>\n",
       "      <td>1.0</td>\n",
       "      <td>None</td>\n",
       "      <td>05 4, 2017</td>\n",
       "      <td>A2W62BEC04FLZO</td>\n",
       "      <td>Avonlady</td>\n",
       "      <td>(None, None, None, None, None, None, None, Non...</td>\n",
       "      <td>One Star</td>\n",
       "      <td>1493856000</td>\n",
       "      <td>True</td>\n",
       "      <td>None</td>\n",
       "    </tr>\n",
       "  </tbody>\n",
       "</table>\n",
       "</div>"
      ],
      "text/plain": [
       "          asin  ...  vote\n",
       "0   B0006OCZ4E  ...  None\n",
       "1   B0007LXU0Y  ...  None\n",
       "2   B0000CNU0C  ...  None\n",
       "3   B00099XOVO  ...  None\n",
       "4   B00061EOVO  ...  None\n",
       "5   B00099XOQO  ...  None\n",
       "6   B0001DMTPU  ...  None\n",
       "7   B0009F3PM6  ...  None\n",
       "8   B0001UXQ9Q  ...     4\n",
       "9   B0009F3SC8  ...  None\n",
       "10  B00061EOVO  ...  None\n",
       "11  B0009F3QKW  ...  None\n",
       "12  B0006O4OIO  ...  None\n",
       "13  B0009F3QKM  ...  None\n",
       "14  B000CC9DYK  ...  None\n",
       "15  B0009VFDEI  ...  None\n",
       "16  B00061EOVO  ...  None\n",
       "17  B000BH3K8G  ...  None\n",
       "18  B000CQ020U  ...  None\n",
       "19  B000CQC04G  ...  None\n",
       "\n",
       "[20 rows x 12 columns]"
      ]
     },
     "execution_count": 17,
     "metadata": {
      "tags": []
     },
     "output_type": "execute_result"
    }
   ],
   "source": [
    "df_dataset = df_sort.limit(20)\n",
    "df_dataset.toPandas()"
   ]
  },
  {
   "cell_type": "markdown",
   "metadata": {
    "colab_type": "text",
    "id": "U0fhQ0uo8sSZ"
   },
   "source": [
    "At this point we realize that column reviewText have a lot of nulls and \\\\n "
   ]
  },
  {
   "cell_type": "markdown",
   "metadata": {
    "colab_type": "text",
    "id": "fBDyhi3x3VoE"
   },
   "source": [
    "First we count nulls in reviewText"
   ]
  },
  {
   "cell_type": "code",
   "execution_count": 18,
   "metadata": {
    "colab": {
     "base_uri": "https://localhost:8080/",
     "height": 35
    },
    "colab_type": "code",
    "id": "gnfCgiUL9m_C",
    "outputId": "2d2d696b-8106-4711-ab79-d27ff2ff5da5"
   },
   "outputs": [
    {
     "data": {
      "text/plain": [
       "390"
      ]
     },
     "execution_count": 18,
     "metadata": {
      "tags": []
     },
     "output_type": "execute_result"
    }
   ],
   "source": [
    "df.where(df.reviewText.isNull()).count()"
   ]
  },
  {
   "cell_type": "markdown",
   "metadata": {
    "colab_type": "text",
    "id": "pIIiEO6u4sZ7"
   },
   "source": [
    "Dropping nulls from reviewText"
   ]
  },
  {
   "cell_type": "code",
   "execution_count": 0,
   "metadata": {
    "colab": {},
    "colab_type": "code",
    "id": "kEPFWLrl9m_X"
   },
   "outputs": [],
   "source": [
    "df_new = df.na.drop(subset=[\"reviewText\"])"
   ]
  },
  {
   "cell_type": "code",
   "execution_count": 20,
   "metadata": {
    "colab": {
     "base_uri": "https://localhost:8080/",
     "height": 35
    },
    "colab_type": "code",
    "id": "hhiQteiC9nBX",
    "outputId": "cde2784d-8cab-4b23-b420-914932474005"
   },
   "outputs": [
    {
     "data": {
      "text/plain": [
       "0"
      ]
     },
     "execution_count": 20,
     "metadata": {
      "tags": []
     },
     "output_type": "execute_result"
    }
   ],
   "source": [
    "df_new.where(df.reviewText.isNull()).count()"
   ]
  },
  {
   "cell_type": "markdown",
   "metadata": {
    "colab_type": "text",
    "id": "EjhVx4Qh-FMs"
   },
   "source": [
    "Replacing \\\\n for '  '"
   ]
  },
  {
   "cell_type": "code",
   "execution_count": 0,
   "metadata": {
    "colab": {},
    "colab_type": "code",
    "id": "U1FbjYXovoFD"
   },
   "outputs": [],
   "source": [
    "from pyspark.sql.functions import *\n",
    "df_new = df_new.withColumn('reviewText', regexp_replace('reviewText', '\\n', ' '))"
   ]
  },
  {
   "cell_type": "markdown",
   "metadata": {
    "colab_type": "text",
    "id": "J8lZO1gS-Tp7"
   },
   "source": [
    "Deleting empty left spaces and empty right spaces"
   ]
  },
  {
   "cell_type": "code",
   "execution_count": 0,
   "metadata": {
    "colab": {},
    "colab_type": "code",
    "id": "rkv7_33pv8b3"
   },
   "outputs": [],
   "source": [
    "import pyspark.sql.functions as func\n",
    "df_new = df_new.withColumn('reviewText', func.ltrim(func.rtrim(df_new['reviewText'])))"
   ]
  },
  {
   "cell_type": "markdown",
   "metadata": {
    "colab_type": "text",
    "id": "SC3DQExn_HH6"
   },
   "source": [
    "Describing data after treatment"
   ]
  },
  {
   "cell_type": "code",
   "execution_count": 23,
   "metadata": {
    "colab": {
     "base_uri": "https://localhost:8080/",
     "height": 363
    },
    "colab_type": "code",
    "id": "Kp2AJRTzwR5s",
    "outputId": "8cc1edcc-f768-4b6a-c128-e69d882b1c59"
   },
   "outputs": [
    {
     "data": {
      "text/html": [
       "<div>\n",
       "<style scoped>\n",
       "    .dataframe tbody tr th:only-of-type {\n",
       "        vertical-align: middle;\n",
       "    }\n",
       "\n",
       "    .dataframe tbody tr th {\n",
       "        vertical-align: top;\n",
       "    }\n",
       "\n",
       "    .dataframe thead th {\n",
       "        text-align: right;\n",
       "    }\n",
       "</style>\n",
       "<table border=\"1\" class=\"dataframe\">\n",
       "  <thead>\n",
       "    <tr style=\"text-align: right;\">\n",
       "      <th></th>\n",
       "      <th>0</th>\n",
       "      <th>1</th>\n",
       "      <th>2</th>\n",
       "      <th>3</th>\n",
       "      <th>4</th>\n",
       "    </tr>\n",
       "  </thead>\n",
       "  <tbody>\n",
       "    <tr>\n",
       "      <th>summary</th>\n",
       "      <td>count</td>\n",
       "      <td>mean</td>\n",
       "      <td>stddev</td>\n",
       "      <td>min</td>\n",
       "      <td>max</td>\n",
       "    </tr>\n",
       "    <tr>\n",
       "      <th>asin</th>\n",
       "      <td>1143470</td>\n",
       "      <td>8.022473689795918E9</td>\n",
       "      <td>2.3749861105498543E9</td>\n",
       "      <td>4639725043</td>\n",
       "      <td>B01HJF6FRA</td>\n",
       "    </tr>\n",
       "    <tr>\n",
       "      <th>overall</th>\n",
       "      <td>1143470</td>\n",
       "      <td>4.442092927667538</td>\n",
       "      <td>1.063964040922202</td>\n",
       "      <td>1.0</td>\n",
       "      <td>5.0</td>\n",
       "    </tr>\n",
       "    <tr>\n",
       "      <th>reviewText</th>\n",
       "      <td>1143470</td>\n",
       "      <td>2.7032967032967035</td>\n",
       "      <td>10.389625707614412</td>\n",
       "      <td>! ordered in past single cherries sugar coated...</td>\n",
       "      <td>~Who doesn't like Oreos? Great product~</td>\n",
       "    </tr>\n",
       "    <tr>\n",
       "      <th>reviewTime</th>\n",
       "      <td>1143470</td>\n",
       "      <td>None</td>\n",
       "      <td>None</td>\n",
       "      <td>01 1, 2007</td>\n",
       "      <td>12 9, 2017</td>\n",
       "    </tr>\n",
       "    <tr>\n",
       "      <th>reviewerID</th>\n",
       "      <td>1143470</td>\n",
       "      <td>None</td>\n",
       "      <td>None</td>\n",
       "      <td>A0096681Y127OL1H8W3U</td>\n",
       "      <td>AZZZ5UJWUVCYZ</td>\n",
       "    </tr>\n",
       "    <tr>\n",
       "      <th>reviewerName</th>\n",
       "      <td>1143332</td>\n",
       "      <td>1.4158923709394148E8</td>\n",
       "      <td>5.784877074682183E8</td>\n",
       "      <td>funfunfunfun</td>\n",
       "      <td>~~Trish~~</td>\n",
       "    </tr>\n",
       "    <tr>\n",
       "      <th>summary</th>\n",
       "      <td>1143292</td>\n",
       "      <td>36.583333333333336</td>\n",
       "      <td>148.125289701912</td>\n",
       "      <td></td>\n",
       "      <td>~~~~~~~~~~~  The Stinking Rose</td>\n",
       "    </tr>\n",
       "    <tr>\n",
       "      <th>unixReviewTime</th>\n",
       "      <td>1143470</td>\n",
       "      <td>1.4417567933507657E9</td>\n",
       "      <td>5.969365688469212E7</td>\n",
       "      <td>965779200</td>\n",
       "      <td>1538438400</td>\n",
       "    </tr>\n",
       "    <tr>\n",
       "      <th>vote</th>\n",
       "      <td>158184</td>\n",
       "      <td>6.631509404140983</td>\n",
       "      <td>18.011930890747053</td>\n",
       "      <td>1,060</td>\n",
       "      <td>99</td>\n",
       "    </tr>\n",
       "  </tbody>\n",
       "</table>\n",
       "</div>"
      ],
      "text/plain": [
       "                      0  ...                                        4\n",
       "summary           count  ...                                      max\n",
       "asin            1143470  ...                               B01HJF6FRA\n",
       "overall         1143470  ...                                      5.0\n",
       "reviewText      1143470  ...  ~Who doesn't like Oreos? Great product~\n",
       "reviewTime      1143470  ...                               12 9, 2017\n",
       "reviewerID      1143470  ...                            AZZZ5UJWUVCYZ\n",
       "reviewerName    1143332  ...                                ~~Trish~~\n",
       "summary         1143292  ...           ~~~~~~~~~~~  The Stinking Rose\n",
       "unixReviewTime  1143470  ...                               1538438400\n",
       "vote             158184  ...                                       99\n",
       "\n",
       "[10 rows x 5 columns]"
      ]
     },
     "execution_count": 23,
     "metadata": {
      "tags": []
     },
     "output_type": "execute_result"
    }
   ],
   "source": [
    "df_describe = df_new.describe().toPandas().transpose()\n",
    "df_describe"
   ]
  },
  {
   "cell_type": "markdown",
   "metadata": {
    "colab_type": "text",
    "id": "MeXRQVQH_cDN"
   },
   "source": [
    "Selecting reviewText column and show first rows"
   ]
  },
  {
   "cell_type": "code",
   "execution_count": 24,
   "metadata": {
    "colab": {
     "base_uri": "https://localhost:8080/",
     "height": 489
    },
    "colab_type": "code",
    "id": "8xKguARQ9nBe",
    "outputId": "fb3c409c-0dac-4557-ab79-116d70754690"
   },
   "outputs": [
    {
     "name": "stdout",
     "output_type": "stream",
     "text": [
      "+--------------------+\n",
      "|          reviewText|\n",
      "+--------------------+\n",
      "|Sugar Free - 19 E...|\n",
      "|These colors are ...|\n",
      "|My friends had us...|\n",
      "|Would rather have...|\n",
      "|Very small jar.  ...|\n",
      "|UPDATE:-  I purch...|\n",
      "|Easy to use at a ...|\n",
      "|I love peanuts bu...|\n",
      "|            Good tea|\n",
      "|             Amazing|\n",
      "|The Bonsai tree i...|\n",
      "|Beautiful on arri...|\n",
      "|I had recently ju...|\n",
      "|Entirely differen...|\n",
      "|Taste great, make...|\n",
      "|perfect! fast shi...|\n",
      "|   Outrageously good|\n",
      "|The best butter b...|\n",
      "|This is the only ...|\n",
      "|Great pepper. Lot...|\n",
      "+--------------------+\n",
      "only showing top 20 rows\n",
      "\n"
     ]
    }
   ],
   "source": [
    "df_new.select(\"reviewText\").distinct().show()"
   ]
  },
  {
   "cell_type": "markdown",
   "metadata": {
    "colab_type": "text",
    "id": "XMQAtqIIOGeT"
   },
   "source": [
    "Working with reviewText and overall columns"
   ]
  },
  {
   "cell_type": "code",
   "execution_count": 25,
   "metadata": {
    "colab": {
     "base_uri": "https://localhost:8080/",
     "height": 489
    },
    "colab_type": "code",
    "id": "xLxjm-kf9nCD",
    "outputId": "8ed0810d-379c-460d-e144-e6e79be48406"
   },
   "outputs": [
    {
     "name": "stdout",
     "output_type": "stream",
     "text": [
      "+-------+--------------------+\n",
      "|overall|          reviewText|\n",
      "+-------+--------------------+\n",
      "|    5.0| No adverse comment.|\n",
      "|    5.0|Gift for college ...|\n",
      "|    5.0|If you like stron...|\n",
      "|    5.0|Love the tea. The...|\n",
      "|    5.0|I have searched e...|\n",
      "|    4.0|Tea made with Lip...|\n",
      "|    5.0|I love this tea! ...|\n",
      "|    5.0|Discovered this t...|\n",
      "|    4.0|Well I bought thi...|\n",
      "|    5.0|We really like th...|\n",
      "|    5.0|Hard to find in t...|\n",
      "|    5.0|I make the best b...|\n",
      "|    3.0|I have recently s...|\n",
      "|    5.0|I like pretty muc...|\n",
      "|    5.0|I was watching a ...|\n",
      "|    3.0|it was ok, but it...|\n",
      "|    5.0|Great taste use i...|\n",
      "|    5.0|Best tea for my s...|\n",
      "|    4.0|Good tea. Way bet...|\n",
      "|    1.0|This tea looks li...|\n",
      "+-------+--------------------+\n",
      "only showing top 20 rows\n",
      "\n"
     ]
    }
   ],
   "source": [
    "data = df_new.rdd\\\n",
    "    .map(lambda x: (x[\"overall\"], x[\"reviewText\"]))\\\n",
    "    .toDF([\"overall\", \"reviewText\"])\n",
    "\n",
    "data.show()"
   ]
  },
  {
   "cell_type": "markdown",
   "metadata": {
    "colab_type": "text",
    "id": "YHvsYGtsMIxp"
   },
   "source": [
    "It's time to clean up the data. We search for numbers, punctuation, multiple space, etc."
   ]
  },
  {
   "cell_type": "code",
   "execution_count": 26,
   "metadata": {
    "colab": {
     "base_uri": "https://localhost:8080/",
     "height": 346
    },
    "colab_type": "code",
    "id": "83B4hnwa9nB1",
    "outputId": "3434e57e-d2e4-4a35-f520-3e2bba50410c"
   },
   "outputs": [
    {
     "name": "stdout",
     "output_type": "stream",
     "text": [
      "Requirement already satisfied: gensim in /usr/local/lib/python3.6/dist-packages (3.6.0)\n",
      "Requirement already satisfied: scipy>=0.18.1 in /usr/local/lib/python3.6/dist-packages (from gensim) (1.4.1)\n",
      "Requirement already satisfied: numpy>=1.11.3 in /usr/local/lib/python3.6/dist-packages (from gensim) (1.18.4)\n",
      "Requirement already satisfied: six>=1.5.0 in /usr/local/lib/python3.6/dist-packages (from gensim) (1.12.0)\n",
      "Requirement already satisfied: smart-open>=1.2.1 in /usr/local/lib/python3.6/dist-packages (from gensim) (2.0.0)\n",
      "Requirement already satisfied: boto3 in /usr/local/lib/python3.6/dist-packages (from smart-open>=1.2.1->gensim) (1.13.13)\n",
      "Requirement already satisfied: requests in /usr/local/lib/python3.6/dist-packages (from smart-open>=1.2.1->gensim) (2.23.0)\n",
      "Requirement already satisfied: boto in /usr/local/lib/python3.6/dist-packages (from smart-open>=1.2.1->gensim) (2.49.0)\n",
      "Requirement already satisfied: botocore<1.17.0,>=1.16.13 in /usr/local/lib/python3.6/dist-packages (from boto3->smart-open>=1.2.1->gensim) (1.16.13)\n",
      "Requirement already satisfied: s3transfer<0.4.0,>=0.3.0 in /usr/local/lib/python3.6/dist-packages (from boto3->smart-open>=1.2.1->gensim) (0.3.3)\n",
      "Requirement already satisfied: jmespath<1.0.0,>=0.7.1 in /usr/local/lib/python3.6/dist-packages (from boto3->smart-open>=1.2.1->gensim) (0.10.0)\n",
      "Requirement already satisfied: certifi>=2017.4.17 in /usr/local/lib/python3.6/dist-packages (from requests->smart-open>=1.2.1->gensim) (2020.4.5.1)\n",
      "Requirement already satisfied: chardet<4,>=3.0.2 in /usr/local/lib/python3.6/dist-packages (from requests->smart-open>=1.2.1->gensim) (3.0.4)\n",
      "Requirement already satisfied: idna<3,>=2.5 in /usr/local/lib/python3.6/dist-packages (from requests->smart-open>=1.2.1->gensim) (2.9)\n",
      "Requirement already satisfied: urllib3!=1.25.0,!=1.25.1,<1.26,>=1.21.1 in /usr/local/lib/python3.6/dist-packages (from requests->smart-open>=1.2.1->gensim) (1.24.3)\n",
      "Requirement already satisfied: docutils<0.16,>=0.10 in /usr/local/lib/python3.6/dist-packages (from botocore<1.17.0,>=1.16.13->boto3->smart-open>=1.2.1->gensim) (0.15.2)\n",
      "Requirement already satisfied: python-dateutil<3.0.0,>=2.1 in /usr/local/lib/python3.6/dist-packages (from botocore<1.17.0,>=1.16.13->boto3->smart-open>=1.2.1->gensim) (2.8.1)\n"
     ]
    }
   ],
   "source": [
    "!pip install gensim"
   ]
  },
  {
   "cell_type": "code",
   "execution_count": 0,
   "metadata": {
    "colab": {},
    "colab_type": "code",
    "id": "aAynlYyN9nB7"
   },
   "outputs": [],
   "source": [
    "import gensim.parsing.preprocessing as gsp\n",
    "from pyspark.sql.functions import udf\n",
    "from pyspark.sql.types import StringType\n",
    "from gensim import utils\n",
    "\n",
    "\n",
    "filters = [\n",
    "           gsp.strip_tags, \n",
    "           gsp.strip_punctuation,\n",
    "           gsp.strip_multiple_whitespaces,\n",
    "           gsp.strip_numeric,\n",
    "           gsp.remove_stopwords, \n",
    "           gsp.strip_short, \n",
    "           gsp.stem_text\n",
    "          ]\n",
    "\n",
    "def clean_text(x):\n",
    "    s = x[1]\n",
    "    s = s.lower()\n",
    "    s = utils.to_unicode(s)\n",
    "    for f in filters:\n",
    "        s = f(s)\n",
    "    return (x[0],s)"
   ]
  },
  {
   "cell_type": "code",
   "execution_count": 28,
   "metadata": {
    "colab": {
     "base_uri": "https://localhost:8080/",
     "height": 35
    },
    "colab_type": "code",
    "id": "MKF1ESz69nCI",
    "outputId": "6fbfedab-9243-45ee-dbad-f2dec7160b52"
   },
   "outputs": [
    {
     "data": {
      "text/plain": [
       "'No adverse comment.'"
      ]
     },
     "execution_count": 28,
     "metadata": {
      "tags": []
     },
     "output_type": "execute_result"
    }
   ],
   "source": [
    "data.take(1)[0][1]"
   ]
  },
  {
   "cell_type": "code",
   "execution_count": 29,
   "metadata": {
    "colab": {
     "base_uri": "https://localhost:8080/",
     "height": 35
    },
    "colab_type": "code",
    "id": "6_sYXn7A9nCO",
    "outputId": "f5515d4d-1bdd-4d9c-fd0e-5f247aebb0c9"
   },
   "outputs": [
    {
     "data": {
      "text/plain": [
       "'advers comment'"
      ]
     },
     "execution_count": 29,
     "metadata": {
      "tags": []
     },
     "output_type": "execute_result"
    }
   ],
   "source": [
    "clean_text(data.take(1)[0])[1]"
   ]
  },
  {
   "cell_type": "markdown",
   "metadata": {
    "colab_type": "text",
    "id": "_aK-TJuOPjtK"
   },
   "source": [
    "Applying gensim function"
   ]
  },
  {
   "cell_type": "code",
   "execution_count": 30,
   "metadata": {
    "colab": {
     "base_uri": "https://localhost:8080/",
     "height": 489
    },
    "colab_type": "code",
    "id": "f8Y0rDW09nCW",
    "outputId": "fe6b6f64-1790-47c8-9015-61569cd67799"
   },
   "outputs": [
    {
     "name": "stdout",
     "output_type": "stream",
     "text": [
      "+---+--------------------+\n",
      "| _1|                  _2|\n",
      "+---+--------------------+\n",
      "|5.0|      advers comment|\n",
      "|5.0| gift colleg student|\n",
      "|5.0|like strong tea l...|\n",
      "|5.0|love tea flavor w...|\n",
      "|5.0|search brows amaz...|\n",
      "|4.0|tea lipton yellow...|\n",
      "|5.0|love tea okai hig...|\n",
      "|5.0|discov tea local ...|\n",
      "|4.0|bought tea malays...|\n",
      "|5.0|like tea definit ...|\n",
      "|5.0|hard exactli desc...|\n",
      "|5.0|best brew ic tea ...|\n",
      "|3.0|recent start drin...|\n",
      "|5.0|like pretti lipto...|\n",
      "|5.0|watch youtub vide...|\n",
      "|3.0|tast like lipton ...|\n",
      "|5.0|great tast us col...|\n",
      "|5.0|best tea singl cu...|\n",
      "|4.0|good tea wai bett...|\n",
      "|1.0|tea look like cof...|\n",
      "+---+--------------------+\n",
      "only showing top 20 rows\n",
      "\n"
     ]
    }
   ],
   "source": [
    "cleaned_rdd = data.rdd.map(lambda x : clean_text(x))\n",
    "cleaned_df = cleaned_rdd.toDF()\n",
    "cleaned_df.show()"
   ]
  },
  {
   "cell_type": "markdown",
   "metadata": {
    "colab_type": "text",
    "id": "fIhookd-P3GM"
   },
   "source": [
    "Dropping duplicates after cleaning data"
   ]
  },
  {
   "cell_type": "code",
   "execution_count": 0,
   "metadata": {
    "colab": {},
    "colab_type": "code",
    "id": "slRj0mWOyNnV"
   },
   "outputs": [],
   "source": [
    "cleaned_df = cleaned_df.dropDuplicates()"
   ]
  },
  {
   "cell_type": "code",
   "execution_count": 0,
   "metadata": {
    "colab": {},
    "colab_type": "code",
    "id": "kc4VzSvxyg9k"
   },
   "outputs": [],
   "source": [
    "cleaned_df = cleaned_df.dropDuplicates(['_2'])"
   ]
  },
  {
   "cell_type": "code",
   "execution_count": 33,
   "metadata": {
    "colab": {
     "base_uri": "https://localhost:8080/",
     "height": 489
    },
    "colab_type": "code",
    "id": "-0I78lq6yrTJ",
    "outputId": "563170b3-2654-4ac6-cfa8-90bf695a5359"
   },
   "outputs": [
    {
     "name": "stdout",
     "output_type": "stream",
     "text": [
      "+---+--------------------+\n",
      "| _1|                  _2|\n",
      "+---+--------------------+\n",
      "|5.0|kid love last lon...|\n",
      "|5.0|gummi delici tast...|\n",
      "|5.0|great tast easi u...|\n",
      "|5.0|great subtl lime ...|\n",
      "|5.0|  student love candi|\n",
      "|5.0|great help make l...|\n",
      "|5.0|start sai think l...|\n",
      "|4.0|perfect classroom...|\n",
      "|5.0|love coffe rich b...|\n",
      "|3.0|clump lot sure cl...|\n",
      "|5.0|favorit brand keu...|\n",
      "|4.0|daughter like nat...|\n",
      "|1.0|order husband cra...|\n",
      "|3.0|   littl pricei tast|\n",
      "|5.0|larg hand size bo...|\n",
      "|5.0|like review grew ...|\n",
      "|5.0|delici fresh flav...|\n",
      "|4.0|    nice sweet snack|\n",
      "|1.0|                clog|\n",
      "|2.0|bought box bake b...|\n",
      "+---+--------------------+\n",
      "only showing top 20 rows\n",
      "\n"
     ]
    }
   ],
   "source": [
    "cleaned_df.show()"
   ]
  },
  {
   "cell_type": "markdown",
   "metadata": {
    "colab_type": "text",
    "id": "MRoh5-JPQC2H"
   },
   "source": [
    "Split data (train and test)"
   ]
  },
  {
   "cell_type": "code",
   "execution_count": 0,
   "metadata": {
    "colab": {},
    "colab_type": "code",
    "id": "9PAiOgJz9rUX"
   },
   "outputs": [],
   "source": [
    "train_df, test_df = cleaned_df.randomSplit([0.7, 0.3])"
   ]
  },
  {
   "cell_type": "markdown",
   "metadata": {
    "colab_type": "text",
    "id": "J_Cdj8Ul9nCb"
   },
   "source": [
    "## Working in ML pipeline"
   ]
  },
  {
   "cell_type": "markdown",
   "metadata": {
    "colab_type": "text",
    "id": "ZHXHGSq4RqwX"
   },
   "source": [
    "Apache Spark provides Word2Vec that transforms each document into a vector using the average of all words in the document"
   ]
  },
  {
   "cell_type": "markdown",
   "metadata": {
    "colab_type": "text",
    "id": "XB15RKIhU2pd"
   },
   "source": [
    "First working with training data"
   ]
  },
  {
   "cell_type": "code",
   "execution_count": 0,
   "metadata": {
    "colab": {},
    "colab_type": "code",
    "id": "mhvAzLE69nCd"
   },
   "outputs": [],
   "source": [
    "from pyspark.ml.feature import Tokenizer\n",
    "from pyspark.ml.feature import Word2Vec\n",
    "from pyspark.ml import Pipeline\n",
    "\n",
    "tokenizer = Tokenizer(inputCol=\"_2\", outputCol=\"tokens\")\n",
    "word2Vec = Word2Vec(vectorSize=300, minCount=0, inputCol=\"tokens\", outputCol=\"features\")\n",
    "pipeline = Pipeline(stages=[tokenizer,word2Vec])"
   ]
  },
  {
   "cell_type": "code",
   "execution_count": 0,
   "metadata": {
    "colab": {},
    "colab_type": "code",
    "id": "TLdf3kYf9nCj"
   },
   "outputs": [],
   "source": [
    "model = pipeline.fit(train_df)"
   ]
  },
  {
   "cell_type": "code",
   "execution_count": 0,
   "metadata": {
    "colab": {},
    "colab_type": "code",
    "id": "wrE9EGht9nCq"
   },
   "outputs": [],
   "source": [
    "doc_train_df = model.transform(train_df)"
   ]
  },
  {
   "cell_type": "code",
   "execution_count": 38,
   "metadata": {
    "colab": {
     "base_uri": "https://localhost:8080/",
     "height": 489
    },
    "colab_type": "code",
    "id": "fVHCWWU19nCu",
    "outputId": "325cfb52-88db-42a8-a66f-907ec966a88d"
   },
   "outputs": [
    {
     "name": "stdout",
     "output_type": "stream",
     "text": [
      "+---+--------------------+--------------------+--------------------+\n",
      "| _1|                  _2|              tokens|            features|\n",
      "+---+--------------------+--------------------+--------------------+\n",
      "|1.0|absolut underwhel...|[absolut, underwh...|[-0.0516571965513...|\n",
      "|1.0|acquir tast could...|[acquir, tast, co...|[-0.0368508747778...|\n",
      "|1.0|amaz review read ...|[amaz, review, re...|[-0.0665831222237...|\n",
      "|1.0|amazon return ite...|[amazon, return, ...|[-0.0779496141207...|\n",
      "|1.0|arriv complet sta...|[arriv, complet, ...|[-0.0427331910891...|\n",
      "|1.0|         arriv crumb|      [arriv, crumb]|[-0.1141674779355...|\n",
      "|1.0|artifici color ho...|[artifici, color,...|[-0.0904802464480...|\n",
      "|1.0|assum marmit supp...|[assum, marmit, s...|[-0.0936670112423...|\n",
      "|1.0|         at got sick|     [at, got, sick]|[-0.0845449590124...|\n",
      "|1.0|aw tast sage look...|[aw, tast, sage, ...|[-0.1058548859913...|\n",
      "|1.0|bad tast like ras...|[bad, tast, like,...|[-0.0269948372927...|\n",
      "|1.0|bewar contamin fo...|[bewar, contamin,...|[0.02124184928834...|\n",
      "|1.0|bought ago love g...|[bought, ago, lov...|[-0.0652831911719...|\n",
      "|1.0|bought kombucha m...|[bought, kombucha...|[-0.0793354115966...|\n",
      "|1.0|bought mix ag ago...|[bought, mix, ag,...|[-0.0532699579335...|\n",
      "|1.0|bought wrong cup ...|[bought, wrong, c...|[-0.0926649127155...|\n",
      "|1.0|box dri fruit qua...|[box, dri, fruit,...|[-0.0550466304024...|\n",
      "|1.0|bui china won ad ...|[bui, china, won,...|[-0.0043753277976...|\n",
      "|1.0|bui sauc ragu bel...|[bui, sauc, ragu,...|[-0.0236693475324...|\n",
      "|1.0|campbel recip len...|[campbel, recip, ...|[0.01511166050719...|\n",
      "+---+--------------------+--------------------+--------------------+\n",
      "only showing top 20 rows\n",
      "\n"
     ]
    }
   ],
   "source": [
    "doc_train_df.show()"
   ]
  },
  {
   "cell_type": "markdown",
   "metadata": {
    "colab_type": "text",
    "id": "_8uB0LzqV6v_"
   },
   "source": [
    "Working with test data"
   ]
  },
  {
   "cell_type": "code",
   "execution_count": 0,
   "metadata": {
    "colab": {},
    "colab_type": "code",
    "id": "pobKMitQFKK1"
   },
   "outputs": [],
   "source": [
    "tokenizerT = Tokenizer(inputCol=\"_2\", outputCol=\"tokens\")\n",
    "word2VecT = Word2Vec(vectorSize=300, minCount=0, inputCol=\"tokens\", outputCol=\"features\")\n",
    "pipelineT = Pipeline(stages=[tokenizerT,word2VecT])"
   ]
  },
  {
   "cell_type": "code",
   "execution_count": 0,
   "metadata": {
    "colab": {},
    "colab_type": "code",
    "id": "5B_QIZDOFdMd"
   },
   "outputs": [],
   "source": [
    "modelT = pipelineT.fit(test_df)"
   ]
  },
  {
   "cell_type": "code",
   "execution_count": 0,
   "metadata": {
    "colab": {},
    "colab_type": "code",
    "id": "E7bkyv-eFqH1"
   },
   "outputs": [],
   "source": [
    "doc_test_df = modelT.transform(test_df)"
   ]
  },
  {
   "cell_type": "markdown",
   "metadata": {
    "colab_type": "text",
    "id": "fTfgKkM0H0es"
   },
   "source": [
    "Random Forest Model"
   ]
  },
  {
   "cell_type": "code",
   "execution_count": 0,
   "metadata": {
    "colab": {},
    "colab_type": "code",
    "id": "D4jbpF71O_C9"
   },
   "outputs": [],
   "source": [
    "from pyspark.ml.classification import RandomForestClassifier\n",
    "from pyspark.ml.evaluation import MulticlassClassificationEvaluator\n",
    "\n",
    "rf_classifier=RandomForestClassifier(labelCol=\"_1\", featuresCol=\"features\")\n",
    "rf_predictions=rf_classifier.fit(doc_train_df).transform(doc_test_df)\n",
    "\n",
    "rf_model_evaluator=MulticlassClassificationEvaluator(labelCol=\"_1\", predictionCol=\"prediction\", metricName=\"accuracy\")"
   ]
  },
  {
   "cell_type": "code",
   "execution_count": 48,
   "metadata": {
    "colab": {
     "base_uri": "https://localhost:8080/",
     "height": 35
    },
    "colab_type": "code",
    "id": "vewSvPJjHSLj",
    "outputId": "bc70c1b3-b1d5-429c-d401-0856eb98de29"
   },
   "outputs": [
    {
     "name": "stdout",
     "output_type": "stream",
     "text": [
      "Accuracy = 0.691443\n"
     ]
    }
   ],
   "source": [
    "accuracy = rf_model_evaluator.evaluate(rf_predictions)\n",
    "print(\"Accuracy = %g\" % (accuracy))"
   ]
  },
  {
   "cell_type": "markdown",
   "metadata": {
    "colab_type": "text",
    "id": "zEfOTS1PVmYQ"
   },
   "source": [
    "Logistic Regression Model"
   ]
  },
  {
   "cell_type": "code",
   "execution_count": 0,
   "metadata": {
    "colab": {},
    "colab_type": "code",
    "id": "xDv9BE2uLcpa"
   },
   "outputs": [],
   "source": [
    "from pyspark.ml.classification import LogisticRegression\n",
    "lr_classifier=LogisticRegression(family=\"multinomial\", labelCol=\"_1\")\n",
    "\n",
    "lr_predictions=lr_classifier.fit(doc_train_df).transform(doc_test_df)\n",
    "lr_model_evaluator=MulticlassClassificationEvaluator(labelCol=\"_1\", predictionCol=\"prediction\", metricName=\"accuracy\")"
   ]
  },
  {
   "cell_type": "code",
   "execution_count": 50,
   "metadata": {
    "colab": {
     "base_uri": "https://localhost:8080/",
     "height": 35
    },
    "colab_type": "code",
    "id": "1DhlmNg-NlfD",
    "outputId": "a0c2ed66-0535-488d-899c-96f3b10dfd8e"
   },
   "outputs": [
    {
     "name": "stdout",
     "output_type": "stream",
     "text": [
      "Accuracy = 0.627892\n"
     ]
    }
   ],
   "source": [
    "accuracy = lr_model_evaluator.evaluate(lr_predictions)\n",
    "print(\"Accuracy = %g\" % (accuracy))"
   ]
  }
 ],
 "metadata": {
  "colab": {
   "collapsed_sections": [],
   "name": "Copia2 de GourmetReviewProject.ipynb",
   "provenance": []
  },
  "kernelspec": {
   "display_name": "Python 3",
   "language": "python",
   "name": "python3"
  },
  "language_info": {
   "codemirror_mode": {
    "name": "ipython",
    "version": 3
   },
   "file_extension": ".py",
   "mimetype": "text/x-python",
   "name": "python",
   "nbconvert_exporter": "python",
   "pygments_lexer": "ipython3",
   "version": "3.7.4"
  }
 },
 "nbformat": 4,
 "nbformat_minor": 1
}
